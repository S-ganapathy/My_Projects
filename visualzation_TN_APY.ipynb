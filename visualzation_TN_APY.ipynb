{
  "nbformat": 4,
  "nbformat_minor": 0,
  "metadata": {
    "colab": {
      "provenance": []
    },
    "kernelspec": {
      "name": "python3",
      "display_name": "Python 3"
    },
    "language_info": {
      "name": "python"
    },
    "widgets": {
      "application/vnd.jupyter.widget-state+json": {
        "868c0f34720a4c2197499cfa8a811aff": {
          "model_module": "@jupyter-widgets/controls",
          "model_name": "DropdownModel",
          "model_module_version": "1.5.0",
          "state": {
            "_dom_classes": [],
            "_model_module": "@jupyter-widgets/controls",
            "_model_module_version": "1.5.0",
            "_model_name": "DropdownModel",
            "_options_labels": [
              "NONE",
              "ARIYALUR",
              "COIMBATORE",
              "CUDDALORE",
              "DHARMAPURI",
              "DINDIGUL",
              "ERODE",
              "KANCHIPURAM",
              "KANNIYAKUMARI",
              "KARUR",
              "KRISHNAGIRI",
              "MADURAI",
              "NAGAPATTINAM",
              "NAMAKKAL",
              "PERAMBALUR",
              "PUDUKKOTTAI",
              "RAMANATHAPURAM",
              "SALEM",
              "SIVAGANGA",
              "THANJAVUR",
              "THE NILGIRIS",
              "THENI",
              "THIRUVALLUR",
              "THIRUVARUR",
              "TIRUCHIRAPPALLI",
              "TIRUNELVELI",
              "TIRUPPUR",
              "TIRUVANNAMALAI",
              "TUTICORIN",
              "VELLORE",
              "VILLUPURAM",
              "VIRUDHUNAGAR"
            ],
            "_view_count": null,
            "_view_module": "@jupyter-widgets/controls",
            "_view_module_version": "1.5.0",
            "_view_name": "DropdownView",
            "description": "Dictrict",
            "description_tooltip": null,
            "disabled": false,
            "index": 0,
            "layout": "IPY_MODEL_a30d4990fbbf4d149f4a19da603ba06d",
            "style": "IPY_MODEL_785eae3c597f493f88c010525d7e8983"
          }
        },
        "a30d4990fbbf4d149f4a19da603ba06d": {
          "model_module": "@jupyter-widgets/base",
          "model_name": "LayoutModel",
          "model_module_version": "1.2.0",
          "state": {
            "_model_module": "@jupyter-widgets/base",
            "_model_module_version": "1.2.0",
            "_model_name": "LayoutModel",
            "_view_count": null,
            "_view_module": "@jupyter-widgets/base",
            "_view_module_version": "1.2.0",
            "_view_name": "LayoutView",
            "align_content": null,
            "align_items": null,
            "align_self": null,
            "border": null,
            "bottom": null,
            "display": null,
            "flex": null,
            "flex_flow": null,
            "grid_area": null,
            "grid_auto_columns": null,
            "grid_auto_flow": null,
            "grid_auto_rows": null,
            "grid_column": null,
            "grid_gap": null,
            "grid_row": null,
            "grid_template_areas": null,
            "grid_template_columns": null,
            "grid_template_rows": null,
            "height": null,
            "justify_content": null,
            "justify_items": null,
            "left": null,
            "margin": null,
            "max_height": null,
            "max_width": null,
            "min_height": null,
            "min_width": null,
            "object_fit": null,
            "object_position": null,
            "order": null,
            "overflow": null,
            "overflow_x": null,
            "overflow_y": null,
            "padding": null,
            "right": null,
            "top": null,
            "visibility": null,
            "width": null
          }
        },
        "785eae3c597f493f88c010525d7e8983": {
          "model_module": "@jupyter-widgets/controls",
          "model_name": "DescriptionStyleModel",
          "model_module_version": "1.5.0",
          "state": {
            "_model_module": "@jupyter-widgets/controls",
            "_model_module_version": "1.5.0",
            "_model_name": "DescriptionStyleModel",
            "_view_count": null,
            "_view_module": "@jupyter-widgets/base",
            "_view_module_version": "1.2.0",
            "_view_name": "StyleView",
            "description_width": ""
          }
        },
        "6b104bea157c4333af6d49e52633c421": {
          "model_module": "@jupyter-widgets/controls",
          "model_name": "DropdownModel",
          "model_module_version": "1.5.0",
          "state": {
            "_dom_classes": [],
            "_model_module": "@jupyter-widgets/controls",
            "_model_module_version": "1.5.0",
            "_model_name": "DropdownModel",
            "_options_labels": [
              "NONE",
              "2009",
              "2010",
              "2011",
              "2012",
              "2013"
            ],
            "_view_count": null,
            "_view_module": "@jupyter-widgets/controls",
            "_view_module_version": "1.5.0",
            "_view_name": "DropdownView",
            "description": "Select a year",
            "description_tooltip": null,
            "disabled": false,
            "index": 0,
            "layout": "IPY_MODEL_9c6fc5319fe746f18e9f4e82b6fe33cd",
            "style": "IPY_MODEL_e9bd151bd8014449929be7528a47197c"
          }
        },
        "9c6fc5319fe746f18e9f4e82b6fe33cd": {
          "model_module": "@jupyter-widgets/base",
          "model_name": "LayoutModel",
          "model_module_version": "1.2.0",
          "state": {
            "_model_module": "@jupyter-widgets/base",
            "_model_module_version": "1.2.0",
            "_model_name": "LayoutModel",
            "_view_count": null,
            "_view_module": "@jupyter-widgets/base",
            "_view_module_version": "1.2.0",
            "_view_name": "LayoutView",
            "align_content": null,
            "align_items": null,
            "align_self": null,
            "border": null,
            "bottom": null,
            "display": null,
            "flex": null,
            "flex_flow": null,
            "grid_area": null,
            "grid_auto_columns": null,
            "grid_auto_flow": null,
            "grid_auto_rows": null,
            "grid_column": null,
            "grid_gap": null,
            "grid_row": null,
            "grid_template_areas": null,
            "grid_template_columns": null,
            "grid_template_rows": null,
            "height": null,
            "justify_content": null,
            "justify_items": null,
            "left": null,
            "margin": null,
            "max_height": null,
            "max_width": null,
            "min_height": null,
            "min_width": null,
            "object_fit": null,
            "object_position": null,
            "order": null,
            "overflow": null,
            "overflow_x": null,
            "overflow_y": null,
            "padding": null,
            "right": null,
            "top": null,
            "visibility": null,
            "width": null
          }
        },
        "e9bd151bd8014449929be7528a47197c": {
          "model_module": "@jupyter-widgets/controls",
          "model_name": "DescriptionStyleModel",
          "model_module_version": "1.5.0",
          "state": {
            "_model_module": "@jupyter-widgets/controls",
            "_model_module_version": "1.5.0",
            "_model_name": "DescriptionStyleModel",
            "_view_count": null,
            "_view_module": "@jupyter-widgets/base",
            "_view_module_version": "1.2.0",
            "_view_name": "StyleView",
            "description_width": ""
          }
        },
        "8d804a136cff45a1bb2f1fad79132861": {
          "model_module": "@jupyter-widgets/controls",
          "model_name": "DropdownModel",
          "model_module_version": "1.5.0",
          "state": {
            "_dom_classes": [],
            "_model_module": "@jupyter-widgets/controls",
            "_model_module_version": "1.5.0",
            "_model_name": "DropdownModel",
            "_options_labels": [
              "NONE",
              "2009",
              "2010",
              "2011",
              "2012",
              "2013"
            ],
            "_view_count": null,
            "_view_module": "@jupyter-widgets/controls",
            "_view_module_version": "1.5.0",
            "_view_name": "DropdownView",
            "description": "Select a year",
            "description_tooltip": null,
            "disabled": false,
            "index": 0,
            "layout": "IPY_MODEL_ef95c45aa656459f8e349f5114c9e2d4",
            "style": "IPY_MODEL_6785cedc80084a6a8f15d7e7390f5eea"
          }
        },
        "ef95c45aa656459f8e349f5114c9e2d4": {
          "model_module": "@jupyter-widgets/base",
          "model_name": "LayoutModel",
          "model_module_version": "1.2.0",
          "state": {
            "_model_module": "@jupyter-widgets/base",
            "_model_module_version": "1.2.0",
            "_model_name": "LayoutModel",
            "_view_count": null,
            "_view_module": "@jupyter-widgets/base",
            "_view_module_version": "1.2.0",
            "_view_name": "LayoutView",
            "align_content": null,
            "align_items": null,
            "align_self": null,
            "border": null,
            "bottom": null,
            "display": null,
            "flex": null,
            "flex_flow": null,
            "grid_area": null,
            "grid_auto_columns": null,
            "grid_auto_flow": null,
            "grid_auto_rows": null,
            "grid_column": null,
            "grid_gap": null,
            "grid_row": null,
            "grid_template_areas": null,
            "grid_template_columns": null,
            "grid_template_rows": null,
            "height": null,
            "justify_content": null,
            "justify_items": null,
            "left": null,
            "margin": null,
            "max_height": null,
            "max_width": null,
            "min_height": null,
            "min_width": null,
            "object_fit": null,
            "object_position": null,
            "order": null,
            "overflow": null,
            "overflow_x": null,
            "overflow_y": null,
            "padding": null,
            "right": null,
            "top": null,
            "visibility": null,
            "width": null
          }
        },
        "6785cedc80084a6a8f15d7e7390f5eea": {
          "model_module": "@jupyter-widgets/controls",
          "model_name": "DescriptionStyleModel",
          "model_module_version": "1.5.0",
          "state": {
            "_model_module": "@jupyter-widgets/controls",
            "_model_module_version": "1.5.0",
            "_model_name": "DescriptionStyleModel",
            "_view_count": null,
            "_view_module": "@jupyter-widgets/base",
            "_view_module_version": "1.2.0",
            "_view_name": "StyleView",
            "description_width": ""
          }
        },
        "3b4ca51f5f574b3fa8d0dd9b16c50166": {
          "model_module": "@jupyter-widgets/controls",
          "model_name": "DropdownModel",
          "model_module_version": "1.5.0",
          "state": {
            "_dom_classes": [],
            "_model_module": "@jupyter-widgets/controls",
            "_model_module_version": "1.5.0",
            "_model_name": "DropdownModel",
            "_options_labels": [
              "NONE",
              "ARIYALUR",
              "COIMBATORE",
              "CUDDALORE",
              "DHARMAPURI",
              "DINDIGUL",
              "ERODE",
              "KANCHIPURAM",
              "KANNIYAKUMARI",
              "KARUR",
              "KRISHNAGIRI",
              "MADURAI",
              "NAGAPATTINAM",
              "NAMAKKAL",
              "PERAMBALUR",
              "PUDUKKOTTAI",
              "RAMANATHAPURAM",
              "SALEM",
              "SIVAGANGA",
              "THANJAVUR",
              "THE NILGIRIS",
              "THENI",
              "THIRUVALLUR",
              "THIRUVARUR",
              "TIRUCHIRAPPALLI",
              "TIRUNELVELI",
              "TIRUPPUR",
              "TIRUVANNAMALAI",
              "TUTICORIN",
              "VELLORE",
              "VILLUPURAM",
              "VIRUDHUNAGAR"
            ],
            "_view_count": null,
            "_view_module": "@jupyter-widgets/controls",
            "_view_module_version": "1.5.0",
            "_view_name": "DropdownView",
            "description": "District",
            "description_tooltip": null,
            "disabled": false,
            "index": 0,
            "layout": "IPY_MODEL_ade7f7c93de34edc8237e031fcffcf92",
            "style": "IPY_MODEL_6512be17ffe541b4b5d3df5ddbe5cb2d"
          }
        },
        "ade7f7c93de34edc8237e031fcffcf92": {
          "model_module": "@jupyter-widgets/base",
          "model_name": "LayoutModel",
          "model_module_version": "1.2.0",
          "state": {
            "_model_module": "@jupyter-widgets/base",
            "_model_module_version": "1.2.0",
            "_model_name": "LayoutModel",
            "_view_count": null,
            "_view_module": "@jupyter-widgets/base",
            "_view_module_version": "1.2.0",
            "_view_name": "LayoutView",
            "align_content": null,
            "align_items": null,
            "align_self": null,
            "border": null,
            "bottom": null,
            "display": null,
            "flex": null,
            "flex_flow": null,
            "grid_area": null,
            "grid_auto_columns": null,
            "grid_auto_flow": null,
            "grid_auto_rows": null,
            "grid_column": null,
            "grid_gap": null,
            "grid_row": null,
            "grid_template_areas": null,
            "grid_template_columns": null,
            "grid_template_rows": null,
            "height": null,
            "justify_content": null,
            "justify_items": null,
            "left": null,
            "margin": null,
            "max_height": null,
            "max_width": null,
            "min_height": null,
            "min_width": null,
            "object_fit": null,
            "object_position": null,
            "order": null,
            "overflow": null,
            "overflow_x": null,
            "overflow_y": null,
            "padding": null,
            "right": null,
            "top": null,
            "visibility": null,
            "width": null
          }
        },
        "6512be17ffe541b4b5d3df5ddbe5cb2d": {
          "model_module": "@jupyter-widgets/controls",
          "model_name": "DescriptionStyleModel",
          "model_module_version": "1.5.0",
          "state": {
            "_model_module": "@jupyter-widgets/controls",
            "_model_module_version": "1.5.0",
            "_model_name": "DescriptionStyleModel",
            "_view_count": null,
            "_view_module": "@jupyter-widgets/base",
            "_view_module_version": "1.2.0",
            "_view_name": "StyleView",
            "description_width": ""
          }
        },
        "d8c54e9582284869a2d612422b0f5e59": {
          "model_module": "@jupyter-widgets/controls",
          "model_name": "DropdownModel",
          "model_module_version": "1.5.0",
          "state": {
            "_dom_classes": [],
            "_model_module": "@jupyter-widgets/controls",
            "_model_module_version": "1.5.0",
            "_model_name": "DropdownModel",
            "_options_labels": [
              "NONE",
              "Kharif",
              "Rabi",
              "Whole Year"
            ],
            "_view_count": null,
            "_view_module": "@jupyter-widgets/controls",
            "_view_module_version": "1.5.0",
            "_view_name": "DropdownView",
            "description": "Season",
            "description_tooltip": null,
            "disabled": false,
            "index": 0,
            "layout": "IPY_MODEL_ed22269ce3e447458f75d82123aaa9b2",
            "style": "IPY_MODEL_3151dbc067ec481f9f4684dd50e9369e"
          }
        },
        "ed22269ce3e447458f75d82123aaa9b2": {
          "model_module": "@jupyter-widgets/base",
          "model_name": "LayoutModel",
          "model_module_version": "1.2.0",
          "state": {
            "_model_module": "@jupyter-widgets/base",
            "_model_module_version": "1.2.0",
            "_model_name": "LayoutModel",
            "_view_count": null,
            "_view_module": "@jupyter-widgets/base",
            "_view_module_version": "1.2.0",
            "_view_name": "LayoutView",
            "align_content": null,
            "align_items": null,
            "align_self": null,
            "border": null,
            "bottom": null,
            "display": null,
            "flex": null,
            "flex_flow": null,
            "grid_area": null,
            "grid_auto_columns": null,
            "grid_auto_flow": null,
            "grid_auto_rows": null,
            "grid_column": null,
            "grid_gap": null,
            "grid_row": null,
            "grid_template_areas": null,
            "grid_template_columns": null,
            "grid_template_rows": null,
            "height": null,
            "justify_content": null,
            "justify_items": null,
            "left": null,
            "margin": null,
            "max_height": null,
            "max_width": null,
            "min_height": null,
            "min_width": null,
            "object_fit": null,
            "object_position": null,
            "order": null,
            "overflow": null,
            "overflow_x": null,
            "overflow_y": null,
            "padding": null,
            "right": null,
            "top": null,
            "visibility": null,
            "width": null
          }
        },
        "3151dbc067ec481f9f4684dd50e9369e": {
          "model_module": "@jupyter-widgets/controls",
          "model_name": "DescriptionStyleModel",
          "model_module_version": "1.5.0",
          "state": {
            "_model_module": "@jupyter-widgets/controls",
            "_model_module_version": "1.5.0",
            "_model_name": "DescriptionStyleModel",
            "_view_count": null,
            "_view_module": "@jupyter-widgets/base",
            "_view_module_version": "1.2.0",
            "_view_name": "StyleView",
            "description_width": ""
          }
        },
        "d77497b9cfcf4c468542b2926c649d9d": {
          "model_module": "@jupyter-widgets/controls",
          "model_name": "ButtonModel",
          "model_module_version": "1.5.0",
          "state": {
            "_dom_classes": [],
            "_model_module": "@jupyter-widgets/controls",
            "_model_module_version": "1.5.0",
            "_model_name": "ButtonModel",
            "_view_count": null,
            "_view_module": "@jupyter-widgets/controls",
            "_view_module_version": "1.5.0",
            "_view_name": "ButtonView",
            "button_style": "",
            "description": "SUBMIT",
            "disabled": false,
            "icon": "",
            "layout": "IPY_MODEL_4cbc284f007e451a8353551a6fb33925",
            "style": "IPY_MODEL_191dc2501250431e8835e9e3ba2ae1ee",
            "tooltip": ""
          }
        },
        "4cbc284f007e451a8353551a6fb33925": {
          "model_module": "@jupyter-widgets/base",
          "model_name": "LayoutModel",
          "model_module_version": "1.2.0",
          "state": {
            "_model_module": "@jupyter-widgets/base",
            "_model_module_version": "1.2.0",
            "_model_name": "LayoutModel",
            "_view_count": null,
            "_view_module": "@jupyter-widgets/base",
            "_view_module_version": "1.2.0",
            "_view_name": "LayoutView",
            "align_content": null,
            "align_items": null,
            "align_self": null,
            "border": null,
            "bottom": null,
            "display": null,
            "flex": null,
            "flex_flow": null,
            "grid_area": null,
            "grid_auto_columns": null,
            "grid_auto_flow": null,
            "grid_auto_rows": null,
            "grid_column": null,
            "grid_gap": null,
            "grid_row": null,
            "grid_template_areas": null,
            "grid_template_columns": null,
            "grid_template_rows": null,
            "height": null,
            "justify_content": null,
            "justify_items": null,
            "left": null,
            "margin": null,
            "max_height": null,
            "max_width": null,
            "min_height": null,
            "min_width": null,
            "object_fit": null,
            "object_position": null,
            "order": null,
            "overflow": null,
            "overflow_x": null,
            "overflow_y": null,
            "padding": null,
            "right": null,
            "top": null,
            "visibility": null,
            "width": null
          }
        },
        "191dc2501250431e8835e9e3ba2ae1ee": {
          "model_module": "@jupyter-widgets/controls",
          "model_name": "ButtonStyleModel",
          "model_module_version": "1.5.0",
          "state": {
            "_model_module": "@jupyter-widgets/controls",
            "_model_module_version": "1.5.0",
            "_model_name": "ButtonStyleModel",
            "_view_count": null,
            "_view_module": "@jupyter-widgets/base",
            "_view_module_version": "1.2.0",
            "_view_name": "StyleView",
            "button_color": null,
            "font_weight": ""
          }
        },
        "36c68e7557cd441dad9e9349cbf7830a": {
          "model_module": "@jupyter-widgets/controls",
          "model_name": "DropdownModel",
          "model_module_version": "1.5.0",
          "state": {
            "_dom_classes": [],
            "_model_module": "@jupyter-widgets/controls",
            "_model_module_version": "1.5.0",
            "_model_name": "DropdownModel",
            "_options_labels": [
              "NONE",
              "Arecanut",
              "Arhar/Tur",
              "Bajra",
              "Banana",
              "Black pepper",
              "Cardamom",
              "Cashewnut",
              "Castor seed",
              "Coriander",
              "Cotton(lint)",
              "Dry chillies",
              "Dry ginger",
              "Garlic",
              "Gram",
              "Groundnut",
              "Horse-gram",
              "Jowar",
              "Maize",
              "Moong(Green Gram)",
              "Onion",
              "Potato",
              "Ragi",
              "Rapeseed &Mustard",
              "Rice",
              "Sesamum",
              "Small millets",
              "Sugarcane",
              "Sunflower",
              "Sweet potato",
              "Tapioca",
              "Tobacco",
              "Turmeric",
              "Urad"
            ],
            "_view_count": null,
            "_view_module": "@jupyter-widgets/controls",
            "_view_module_version": "1.5.0",
            "_view_name": "DropdownView",
            "description": "Select a crop",
            "description_tooltip": null,
            "disabled": false,
            "index": 0,
            "layout": "IPY_MODEL_d04a232c88bf4b33af9703c0eebd5d90",
            "style": "IPY_MODEL_2f7d3bb6bc974d16a006447cbf6ac283"
          }
        },
        "d04a232c88bf4b33af9703c0eebd5d90": {
          "model_module": "@jupyter-widgets/base",
          "model_name": "LayoutModel",
          "model_module_version": "1.2.0",
          "state": {
            "_model_module": "@jupyter-widgets/base",
            "_model_module_version": "1.2.0",
            "_model_name": "LayoutModel",
            "_view_count": null,
            "_view_module": "@jupyter-widgets/base",
            "_view_module_version": "1.2.0",
            "_view_name": "LayoutView",
            "align_content": null,
            "align_items": null,
            "align_self": null,
            "border": null,
            "bottom": null,
            "display": null,
            "flex": null,
            "flex_flow": null,
            "grid_area": null,
            "grid_auto_columns": null,
            "grid_auto_flow": null,
            "grid_auto_rows": null,
            "grid_column": null,
            "grid_gap": null,
            "grid_row": null,
            "grid_template_areas": null,
            "grid_template_columns": null,
            "grid_template_rows": null,
            "height": null,
            "justify_content": null,
            "justify_items": null,
            "left": null,
            "margin": null,
            "max_height": null,
            "max_width": null,
            "min_height": null,
            "min_width": null,
            "object_fit": null,
            "object_position": null,
            "order": null,
            "overflow": null,
            "overflow_x": null,
            "overflow_y": null,
            "padding": null,
            "right": null,
            "top": null,
            "visibility": null,
            "width": null
          }
        },
        "2f7d3bb6bc974d16a006447cbf6ac283": {
          "model_module": "@jupyter-widgets/controls",
          "model_name": "DescriptionStyleModel",
          "model_module_version": "1.5.0",
          "state": {
            "_model_module": "@jupyter-widgets/controls",
            "_model_module_version": "1.5.0",
            "_model_name": "DescriptionStyleModel",
            "_view_count": null,
            "_view_module": "@jupyter-widgets/base",
            "_view_module_version": "1.2.0",
            "_view_name": "StyleView",
            "description_width": ""
          }
        },
        "e808d81578634005b811de2c3bf0e562": {
          "model_module": "@jupyter-widgets/controls",
          "model_name": "ButtonModel",
          "model_module_version": "1.5.0",
          "state": {
            "_dom_classes": [],
            "_model_module": "@jupyter-widgets/controls",
            "_model_module_version": "1.5.0",
            "_model_name": "ButtonModel",
            "_view_count": null,
            "_view_module": "@jupyter-widgets/controls",
            "_view_module_version": "1.5.0",
            "_view_name": "ButtonView",
            "button_style": "",
            "description": "SUBMIT",
            "disabled": false,
            "icon": "",
            "layout": "IPY_MODEL_7ecef8f9f03a41d4b30f90b745c522a0",
            "style": "IPY_MODEL_a3ab0cbc6a2b44fdbdb87cf52f30e945",
            "tooltip": ""
          }
        },
        "7ecef8f9f03a41d4b30f90b745c522a0": {
          "model_module": "@jupyter-widgets/base",
          "model_name": "LayoutModel",
          "model_module_version": "1.2.0",
          "state": {
            "_model_module": "@jupyter-widgets/base",
            "_model_module_version": "1.2.0",
            "_model_name": "LayoutModel",
            "_view_count": null,
            "_view_module": "@jupyter-widgets/base",
            "_view_module_version": "1.2.0",
            "_view_name": "LayoutView",
            "align_content": null,
            "align_items": null,
            "align_self": null,
            "border": null,
            "bottom": null,
            "display": null,
            "flex": null,
            "flex_flow": null,
            "grid_area": null,
            "grid_auto_columns": null,
            "grid_auto_flow": null,
            "grid_auto_rows": null,
            "grid_column": null,
            "grid_gap": null,
            "grid_row": null,
            "grid_template_areas": null,
            "grid_template_columns": null,
            "grid_template_rows": null,
            "height": null,
            "justify_content": null,
            "justify_items": null,
            "left": null,
            "margin": null,
            "max_height": null,
            "max_width": null,
            "min_height": null,
            "min_width": null,
            "object_fit": null,
            "object_position": null,
            "order": null,
            "overflow": null,
            "overflow_x": null,
            "overflow_y": null,
            "padding": null,
            "right": null,
            "top": null,
            "visibility": null,
            "width": null
          }
        },
        "a3ab0cbc6a2b44fdbdb87cf52f30e945": {
          "model_module": "@jupyter-widgets/controls",
          "model_name": "ButtonStyleModel",
          "model_module_version": "1.5.0",
          "state": {
            "_model_module": "@jupyter-widgets/controls",
            "_model_module_version": "1.5.0",
            "_model_name": "ButtonStyleModel",
            "_view_count": null,
            "_view_module": "@jupyter-widgets/base",
            "_view_module_version": "1.2.0",
            "_view_name": "StyleView",
            "button_color": null,
            "font_weight": ""
          }
        },
        "9fb2e524aae142b6907d1e47a830bcba": {
          "model_module": "@jupyter-widgets/controls",
          "model_name": "DropdownModel",
          "model_module_version": "1.5.0",
          "state": {
            "_dom_classes": [],
            "_model_module": "@jupyter-widgets/controls",
            "_model_module_version": "1.5.0",
            "_model_name": "DropdownModel",
            "_options_labels": [
              "NONE",
              "Arecanut",
              "Arhar/Tur",
              "Bajra",
              "Banana",
              "Black pepper",
              "Cardamom",
              "Cashewnut",
              "Castor seed",
              "Coriander",
              "Cotton(lint)",
              "Dry chillies",
              "Dry ginger",
              "Garlic",
              "Gram",
              "Groundnut",
              "Horse-gram",
              "Jowar",
              "Maize",
              "Moong(Green Gram)",
              "Onion",
              "Potato",
              "Ragi",
              "Rapeseed &Mustard",
              "Rice",
              "Sesamum",
              "Small millets",
              "Sugarcane",
              "Sunflower",
              "Sweet potato",
              "Tapioca",
              "Tobacco",
              "Turmeric",
              "Urad"
            ],
            "_view_count": null,
            "_view_module": "@jupyter-widgets/controls",
            "_view_module_version": "1.5.0",
            "_view_name": "DropdownView",
            "description": "Select a crop",
            "description_tooltip": null,
            "disabled": false,
            "index": 0,
            "layout": "IPY_MODEL_b01cabd264064ff5a1aad4bcc726406c",
            "style": "IPY_MODEL_3b22f612ea3a497d84571a9dddccc93b"
          }
        },
        "b01cabd264064ff5a1aad4bcc726406c": {
          "model_module": "@jupyter-widgets/base",
          "model_name": "LayoutModel",
          "model_module_version": "1.2.0",
          "state": {
            "_model_module": "@jupyter-widgets/base",
            "_model_module_version": "1.2.0",
            "_model_name": "LayoutModel",
            "_view_count": null,
            "_view_module": "@jupyter-widgets/base",
            "_view_module_version": "1.2.0",
            "_view_name": "LayoutView",
            "align_content": null,
            "align_items": null,
            "align_self": null,
            "border": null,
            "bottom": null,
            "display": null,
            "flex": null,
            "flex_flow": null,
            "grid_area": null,
            "grid_auto_columns": null,
            "grid_auto_flow": null,
            "grid_auto_rows": null,
            "grid_column": null,
            "grid_gap": null,
            "grid_row": null,
            "grid_template_areas": null,
            "grid_template_columns": null,
            "grid_template_rows": null,
            "height": null,
            "justify_content": null,
            "justify_items": null,
            "left": null,
            "margin": null,
            "max_height": null,
            "max_width": null,
            "min_height": null,
            "min_width": null,
            "object_fit": null,
            "object_position": null,
            "order": null,
            "overflow": null,
            "overflow_x": null,
            "overflow_y": null,
            "padding": null,
            "right": null,
            "top": null,
            "visibility": null,
            "width": null
          }
        },
        "3b22f612ea3a497d84571a9dddccc93b": {
          "model_module": "@jupyter-widgets/controls",
          "model_name": "DescriptionStyleModel",
          "model_module_version": "1.5.0",
          "state": {
            "_model_module": "@jupyter-widgets/controls",
            "_model_module_version": "1.5.0",
            "_model_name": "DescriptionStyleModel",
            "_view_count": null,
            "_view_module": "@jupyter-widgets/base",
            "_view_module_version": "1.2.0",
            "_view_name": "StyleView",
            "description_width": ""
          }
        },
        "f541cce67a3247658b4e46175136a795": {
          "model_module": "@jupyter-widgets/controls",
          "model_name": "DropdownModel",
          "model_module_version": "1.5.0",
          "state": {
            "_dom_classes": [],
            "_model_module": "@jupyter-widgets/controls",
            "_model_module_version": "1.5.0",
            "_model_name": "DropdownModel",
            "_options_labels": [
              "NONE",
              "2009",
              "2010",
              "2011",
              "2012",
              "2013"
            ],
            "_view_count": null,
            "_view_module": "@jupyter-widgets/controls",
            "_view_module_version": "1.5.0",
            "_view_name": "DropdownView",
            "description": "Select year",
            "description_tooltip": null,
            "disabled": false,
            "index": 0,
            "layout": "IPY_MODEL_c053e0550397402094d25f75c31091f8",
            "style": "IPY_MODEL_8058eef747de43699b0f09f463ec560e"
          }
        },
        "c053e0550397402094d25f75c31091f8": {
          "model_module": "@jupyter-widgets/base",
          "model_name": "LayoutModel",
          "model_module_version": "1.2.0",
          "state": {
            "_model_module": "@jupyter-widgets/base",
            "_model_module_version": "1.2.0",
            "_model_name": "LayoutModel",
            "_view_count": null,
            "_view_module": "@jupyter-widgets/base",
            "_view_module_version": "1.2.0",
            "_view_name": "LayoutView",
            "align_content": null,
            "align_items": null,
            "align_self": null,
            "border": null,
            "bottom": null,
            "display": null,
            "flex": null,
            "flex_flow": null,
            "grid_area": null,
            "grid_auto_columns": null,
            "grid_auto_flow": null,
            "grid_auto_rows": null,
            "grid_column": null,
            "grid_gap": null,
            "grid_row": null,
            "grid_template_areas": null,
            "grid_template_columns": null,
            "grid_template_rows": null,
            "height": null,
            "justify_content": null,
            "justify_items": null,
            "left": null,
            "margin": null,
            "max_height": null,
            "max_width": null,
            "min_height": null,
            "min_width": null,
            "object_fit": null,
            "object_position": null,
            "order": null,
            "overflow": null,
            "overflow_x": null,
            "overflow_y": null,
            "padding": null,
            "right": null,
            "top": null,
            "visibility": null,
            "width": null
          }
        },
        "8058eef747de43699b0f09f463ec560e": {
          "model_module": "@jupyter-widgets/controls",
          "model_name": "DescriptionStyleModel",
          "model_module_version": "1.5.0",
          "state": {
            "_model_module": "@jupyter-widgets/controls",
            "_model_module_version": "1.5.0",
            "_model_name": "DescriptionStyleModel",
            "_view_count": null,
            "_view_module": "@jupyter-widgets/base",
            "_view_module_version": "1.2.0",
            "_view_name": "StyleView",
            "description_width": ""
          }
        },
        "8e4b103063a34011ac01a5861f6cf451": {
          "model_module": "@jupyter-widgets/controls",
          "model_name": "DropdownModel",
          "model_module_version": "1.5.0",
          "state": {
            "_dom_classes": [],
            "_model_module": "@jupyter-widgets/controls",
            "_model_module_version": "1.5.0",
            "_model_name": "DropdownModel",
            "_options_labels": [
              "NONE",
              "ARIYALUR",
              "COIMBATORE",
              "CUDDALORE",
              "DHARMAPURI",
              "DINDIGUL",
              "ERODE",
              "KANCHIPURAM",
              "KANNIYAKUMARI",
              "KARUR",
              "KRISHNAGIRI",
              "MADURAI",
              "NAGAPATTINAM",
              "NAMAKKAL",
              "PERAMBALUR",
              "PUDUKKOTTAI",
              "RAMANATHAPURAM",
              "SALEM",
              "SIVAGANGA",
              "THANJAVUR",
              "THE NILGIRIS",
              "THENI",
              "THIRUVALLUR",
              "THIRUVARUR",
              "TIRUCHIRAPPALLI",
              "TIRUNELVELI",
              "TIRUPPUR",
              "TIRUVANNAMALAI",
              "TUTICORIN",
              "VELLORE",
              "VILLUPURAM",
              "VIRUDHUNAGAR"
            ],
            "_view_count": null,
            "_view_module": "@jupyter-widgets/controls",
            "_view_module_version": "1.5.0",
            "_view_name": "DropdownView",
            "description": "District",
            "description_tooltip": null,
            "disabled": false,
            "index": 0,
            "layout": "IPY_MODEL_2a6945f9fd6a419080a8c893ae84d91a",
            "style": "IPY_MODEL_022f1737edaa46609d3cb2f932042093"
          }
        },
        "2a6945f9fd6a419080a8c893ae84d91a": {
          "model_module": "@jupyter-widgets/base",
          "model_name": "LayoutModel",
          "model_module_version": "1.2.0",
          "state": {
            "_model_module": "@jupyter-widgets/base",
            "_model_module_version": "1.2.0",
            "_model_name": "LayoutModel",
            "_view_count": null,
            "_view_module": "@jupyter-widgets/base",
            "_view_module_version": "1.2.0",
            "_view_name": "LayoutView",
            "align_content": null,
            "align_items": null,
            "align_self": null,
            "border": null,
            "bottom": null,
            "display": null,
            "flex": null,
            "flex_flow": null,
            "grid_area": null,
            "grid_auto_columns": null,
            "grid_auto_flow": null,
            "grid_auto_rows": null,
            "grid_column": null,
            "grid_gap": null,
            "grid_row": null,
            "grid_template_areas": null,
            "grid_template_columns": null,
            "grid_template_rows": null,
            "height": null,
            "justify_content": null,
            "justify_items": null,
            "left": null,
            "margin": null,
            "max_height": null,
            "max_width": null,
            "min_height": null,
            "min_width": null,
            "object_fit": null,
            "object_position": null,
            "order": null,
            "overflow": null,
            "overflow_x": null,
            "overflow_y": null,
            "padding": null,
            "right": null,
            "top": null,
            "visibility": null,
            "width": null
          }
        },
        "022f1737edaa46609d3cb2f932042093": {
          "model_module": "@jupyter-widgets/controls",
          "model_name": "DescriptionStyleModel",
          "model_module_version": "1.5.0",
          "state": {
            "_model_module": "@jupyter-widgets/controls",
            "_model_module_version": "1.5.0",
            "_model_name": "DescriptionStyleModel",
            "_view_count": null,
            "_view_module": "@jupyter-widgets/base",
            "_view_module_version": "1.2.0",
            "_view_name": "StyleView",
            "description_width": ""
          }
        },
        "5df8512be97c4df9a7addd1c69d7aff2": {
          "model_module": "@jupyter-widgets/controls",
          "model_name": "DropdownModel",
          "model_module_version": "1.5.0",
          "state": {
            "_dom_classes": [],
            "_model_module": "@jupyter-widgets/controls",
            "_model_module_version": "1.5.0",
            "_model_name": "DropdownModel",
            "_options_labels": [
              "NONE",
              "Kharif",
              "Rabi",
              "Whole Year"
            ],
            "_view_count": null,
            "_view_module": "@jupyter-widgets/controls",
            "_view_module_version": "1.5.0",
            "_view_name": "DropdownView",
            "description": "Season",
            "description_tooltip": null,
            "disabled": false,
            "index": 0,
            "layout": "IPY_MODEL_8e8bc5d2bd4844cfb9ff89e52aae33f8",
            "style": "IPY_MODEL_fa6c9ba2418141718bbae70e80d2137e"
          }
        },
        "8e8bc5d2bd4844cfb9ff89e52aae33f8": {
          "model_module": "@jupyter-widgets/base",
          "model_name": "LayoutModel",
          "model_module_version": "1.2.0",
          "state": {
            "_model_module": "@jupyter-widgets/base",
            "_model_module_version": "1.2.0",
            "_model_name": "LayoutModel",
            "_view_count": null,
            "_view_module": "@jupyter-widgets/base",
            "_view_module_version": "1.2.0",
            "_view_name": "LayoutView",
            "align_content": null,
            "align_items": null,
            "align_self": null,
            "border": null,
            "bottom": null,
            "display": null,
            "flex": null,
            "flex_flow": null,
            "grid_area": null,
            "grid_auto_columns": null,
            "grid_auto_flow": null,
            "grid_auto_rows": null,
            "grid_column": null,
            "grid_gap": null,
            "grid_row": null,
            "grid_template_areas": null,
            "grid_template_columns": null,
            "grid_template_rows": null,
            "height": null,
            "justify_content": null,
            "justify_items": null,
            "left": null,
            "margin": null,
            "max_height": null,
            "max_width": null,
            "min_height": null,
            "min_width": null,
            "object_fit": null,
            "object_position": null,
            "order": null,
            "overflow": null,
            "overflow_x": null,
            "overflow_y": null,
            "padding": null,
            "right": null,
            "top": null,
            "visibility": null,
            "width": null
          }
        },
        "fa6c9ba2418141718bbae70e80d2137e": {
          "model_module": "@jupyter-widgets/controls",
          "model_name": "DescriptionStyleModel",
          "model_module_version": "1.5.0",
          "state": {
            "_model_module": "@jupyter-widgets/controls",
            "_model_module_version": "1.5.0",
            "_model_name": "DescriptionStyleModel",
            "_view_count": null,
            "_view_module": "@jupyter-widgets/base",
            "_view_module_version": "1.2.0",
            "_view_name": "StyleView",
            "description_width": ""
          }
        },
        "8e2cc91223154806a461a243f4c9c45e": {
          "model_module": "@jupyter-widgets/controls",
          "model_name": "ButtonModel",
          "model_module_version": "1.5.0",
          "state": {
            "_dom_classes": [],
            "_model_module": "@jupyter-widgets/controls",
            "_model_module_version": "1.5.0",
            "_model_name": "ButtonModel",
            "_view_count": null,
            "_view_module": "@jupyter-widgets/controls",
            "_view_module_version": "1.5.0",
            "_view_name": "ButtonView",
            "button_style": "",
            "description": "SUBMIT",
            "disabled": false,
            "icon": "",
            "layout": "IPY_MODEL_0eb37d38e94d4b3e929fbf95b00b80cf",
            "style": "IPY_MODEL_0824faf968864e25b9a37e37dff0bc82",
            "tooltip": ""
          }
        },
        "0eb37d38e94d4b3e929fbf95b00b80cf": {
          "model_module": "@jupyter-widgets/base",
          "model_name": "LayoutModel",
          "model_module_version": "1.2.0",
          "state": {
            "_model_module": "@jupyter-widgets/base",
            "_model_module_version": "1.2.0",
            "_model_name": "LayoutModel",
            "_view_count": null,
            "_view_module": "@jupyter-widgets/base",
            "_view_module_version": "1.2.0",
            "_view_name": "LayoutView",
            "align_content": null,
            "align_items": null,
            "align_self": null,
            "border": null,
            "bottom": null,
            "display": null,
            "flex": null,
            "flex_flow": null,
            "grid_area": null,
            "grid_auto_columns": null,
            "grid_auto_flow": null,
            "grid_auto_rows": null,
            "grid_column": null,
            "grid_gap": null,
            "grid_row": null,
            "grid_template_areas": null,
            "grid_template_columns": null,
            "grid_template_rows": null,
            "height": null,
            "justify_content": null,
            "justify_items": null,
            "left": null,
            "margin": null,
            "max_height": null,
            "max_width": null,
            "min_height": null,
            "min_width": null,
            "object_fit": null,
            "object_position": null,
            "order": null,
            "overflow": null,
            "overflow_x": null,
            "overflow_y": null,
            "padding": null,
            "right": null,
            "top": null,
            "visibility": null,
            "width": null
          }
        },
        "0824faf968864e25b9a37e37dff0bc82": {
          "model_module": "@jupyter-widgets/controls",
          "model_name": "ButtonStyleModel",
          "model_module_version": "1.5.0",
          "state": {
            "_model_module": "@jupyter-widgets/controls",
            "_model_module_version": "1.5.0",
            "_model_name": "ButtonStyleModel",
            "_view_count": null,
            "_view_module": "@jupyter-widgets/base",
            "_view_module_version": "1.2.0",
            "_view_name": "StyleView",
            "button_color": null,
            "font_weight": ""
          }
        }
      }
    }
  },
  "cells": [
    {
      "cell_type": "markdown",
      "source": [
        "# Tamil nadu crop production"
      ],
      "metadata": {
        "id": "u8gSChHJUwhv"
      }
    },
    {
      "cell_type": "markdown",
      "source": [
        "## Filtering and preprocessing data set"
      ],
      "metadata": {
        "id": "MqV1mePXPTsZ"
      }
    },
    {
      "cell_type": "code",
      "source": [
        "import pandas as pd\n",
        "import numpy as np\n",
        "import matplotlib.pyplot as plt\n",
        "import seaborn as sns\n",
        "from IPython.display import *\n",
        "from ipywidgets import *\n",
        "import warnings\n"
      ],
      "metadata": {
        "id": "LDhx0t48UyK_"
      },
      "execution_count": 160,
      "outputs": []
    },
    {
      "cell_type": "code",
      "source": [
        "warnings.simplefilter(action='ignore',category=FutureWarning)\n",
        "cp=pd.read_csv('/content/drive/MyDrive/Mycolllections/Tamilnadu agriculture yield data.csv')"
      ],
      "metadata": {
        "id": "8K0AXS5cUyOc"
      },
      "execution_count": 161,
      "outputs": []
    },
    {
      "cell_type": "code",
      "source": [
        "cp.columns"
      ],
      "metadata": {
        "colab": {
          "base_uri": "https://localhost:8080/"
        },
        "id": "UTtjkMzV1r6w",
        "outputId": "6bb17f9d-87fa-4123-8cb2-739d55290792"
      },
      "execution_count": 162,
      "outputs": [
        {
          "output_type": "execute_result",
          "data": {
            "text/plain": [
              "Index(['State_Name', 'District_Name', 'Crop_Year', 'Season', 'Crop', 'Area',\n",
              "       'Production'],\n",
              "      dtype='object')"
            ]
          },
          "metadata": {},
          "execution_count": 162
        }
      ]
    },
    {
      "cell_type": "code",
      "source": [
        "d9=cp.loc[cp['Crop_Year']==2009]\n",
        "d9.shape"
      ],
      "metadata": {
        "colab": {
          "base_uri": "https://localhost:8080/"
        },
        "id": "dWCrKPzRxBqi",
        "outputId": "12b25e6c-1425-436a-c1c6-e260a146e50e"
      },
      "execution_count": 163,
      "outputs": [
        {
          "output_type": "execute_result",
          "data": {
            "text/plain": [
              "(809, 7)"
            ]
          },
          "metadata": {},
          "execution_count": 163
        }
      ]
    },
    {
      "cell_type": "code",
      "source": [
        "d10=cp.loc[cp['Crop_Year']==2010]\n",
        "d10.shape"
      ],
      "metadata": {
        "colab": {
          "base_uri": "https://localhost:8080/"
        },
        "id": "rtPc1GJ7xROZ",
        "outputId": "40ae79da-2dbe-4c90-eaaf-6d6b80482812"
      },
      "execution_count": 164,
      "outputs": [
        {
          "output_type": "execute_result",
          "data": {
            "text/plain": [
              "(363, 7)"
            ]
          },
          "metadata": {},
          "execution_count": 164
        }
      ]
    },
    {
      "cell_type": "code",
      "source": [
        "d11=cp.loc[cp['Crop_Year']==2011]\n",
        "d11.shape"
      ],
      "metadata": {
        "colab": {
          "base_uri": "https://localhost:8080/"
        },
        "id": "pIm2dDyLxRcb",
        "outputId": "1f0f738e-b072-473c-942e-8a27043c1f86"
      },
      "execution_count": 165,
      "outputs": [
        {
          "output_type": "execute_result",
          "data": {
            "text/plain": [
              "(921, 7)"
            ]
          },
          "metadata": {},
          "execution_count": 165
        }
      ]
    },
    {
      "cell_type": "code",
      "source": [
        "d12=cp.loc[cp['Crop_Year']==2012]\n",
        "d12.shape"
      ],
      "metadata": {
        "colab": {
          "base_uri": "https://localhost:8080/"
        },
        "id": "zv2unVSFxRqf",
        "outputId": "32df531a-9789-4fcb-9c32-9dd2a976fc2d"
      },
      "execution_count": 166,
      "outputs": [
        {
          "output_type": "execute_result",
          "data": {
            "text/plain": [
              "(361, 7)"
            ]
          },
          "metadata": {},
          "execution_count": 166
        }
      ]
    },
    {
      "cell_type": "code",
      "source": [
        "d13=cp.loc[cp['Crop_Year']==2013]\n",
        "d13.shape"
      ],
      "metadata": {
        "colab": {
          "base_uri": "https://localhost:8080/"
        },
        "id": "U-WAiwu3xSAH",
        "outputId": "c3d782a5-17f8-477c-cfd3-da7422be5271"
      },
      "execution_count": 167,
      "outputs": [
        {
          "output_type": "execute_result",
          "data": {
            "text/plain": [
              "(1043, 7)"
            ]
          },
          "metadata": {},
          "execution_count": 167
        }
      ]
    },
    {
      "cell_type": "code",
      "source": [
        "global df\n",
        "df=pd.concat([d9,d10,d11,d12,d13])\n"
      ],
      "metadata": {
        "id": "loeSDplOabUT"
      },
      "execution_count": 168,
      "outputs": []
    },
    {
      "cell_type": "code",
      "source": [
        "x=df.loc[df['Crop']=='Coconut'].index\n",
        "df.drop(x,inplace=True)\n"
      ],
      "metadata": {
        "id": "h6fDydHwNyB1"
      },
      "execution_count": 169,
      "outputs": []
    },
    {
      "cell_type": "code",
      "source": [
        "df.isnull().sum()"
      ],
      "metadata": {
        "colab": {
          "base_uri": "https://localhost:8080/"
        },
        "id": "SUGr4RXJeFHs",
        "outputId": "bb8c011e-0efa-4f76-fffa-ad29a89cb020"
      },
      "execution_count": 170,
      "outputs": [
        {
          "output_type": "execute_result",
          "data": {
            "text/plain": [
              "State_Name        0\n",
              "District_Name     0\n",
              "Crop_Year         0\n",
              "Season            0\n",
              "Crop              0\n",
              "Area              0\n",
              "Production       71\n",
              "dtype: int64"
            ]
          },
          "metadata": {},
          "execution_count": 170
        }
      ]
    },
    {
      "cell_type": "code",
      "source": [
        "df=df.dropna()\n",
        "df.shape"
      ],
      "metadata": {
        "colab": {
          "base_uri": "https://localhost:8080/"
        },
        "id": "zXCmTGmie99P",
        "outputId": "a5f1b69b-ab58-4fd5-cb09-18155b8bc364"
      },
      "execution_count": 171,
      "outputs": [
        {
          "output_type": "execute_result",
          "data": {
            "text/plain": [
              "(3333, 7)"
            ]
          },
          "metadata": {},
          "execution_count": 171
        }
      ]
    },
    {
      "cell_type": "code",
      "source": [
        "df.info()"
      ],
      "metadata": {
        "colab": {
          "base_uri": "https://localhost:8080/"
        },
        "id": "BUxoFp1HdnD_",
        "outputId": "d03168bf-b15a-4d84-a491-b23f2ba4083a"
      },
      "execution_count": 172,
      "outputs": [
        {
          "output_type": "stream",
          "name": "stdout",
          "text": [
            "<class 'pandas.core.frame.DataFrame'>\n",
            "Int64Index: 3333 entries, 22 to 13546\n",
            "Data columns (total 7 columns):\n",
            " #   Column         Non-Null Count  Dtype  \n",
            "---  ------         --------------  -----  \n",
            " 0   State_Name     3333 non-null   object \n",
            " 1   District_Name  3333 non-null   object \n",
            " 2   Crop_Year      3333 non-null   int64  \n",
            " 3   Season         3333 non-null   object \n",
            " 4   Crop           3333 non-null   object \n",
            " 5   Area           3333 non-null   int64  \n",
            " 6   Production     3333 non-null   float64\n",
            "dtypes: float64(1), int64(2), object(4)\n",
            "memory usage: 208.3+ KB\n"
          ]
        }
      ]
    },
    {
      "cell_type": "code",
      "source": [
        "df.duplicated().sum() #this show no data is repeated"
      ],
      "metadata": {
        "colab": {
          "base_uri": "https://localhost:8080/"
        },
        "id": "qqxaCg8H1Wex",
        "outputId": "e7d261f9-0a63-4186-abd8-f4d5277852e4"
      },
      "execution_count": 173,
      "outputs": [
        {
          "output_type": "execute_result",
          "data": {
            "text/plain": [
              "0"
            ]
          },
          "metadata": {},
          "execution_count": 173
        }
      ]
    },
    {
      "cell_type": "code",
      "source": [
        "df=df.reset_index()\n",
        "df=df.drop(['index'],axis=1)\n",
        "df=df.drop(['State_Name'],axis=1)"
      ],
      "metadata": {
        "id": "ufycMOyu3GDv"
      },
      "execution_count": 174,
      "outputs": []
    },
    {
      "cell_type": "code",
      "source": [
        "dic_list=df.District_Name.unique().tolist()\n",
        "dic_list.sort()\n",
        "dic_list.insert(0,'NONE')\n",
        "year_list=df.Crop_Year.unique().tolist()\n",
        "year_list.sort()\n",
        "year_list.insert(0,'NONE')\n",
        "sea_list=df.Season.unique().tolist()\n",
        "sea_list.sort()\n",
        "sea_list.insert(0,'NONE')\n",
        "crp_list=df.Crop.unique().tolist()\n",
        "crp_list.sort()\n",
        "crp_list.insert(0,'NONE')\n"
      ],
      "metadata": {
        "id": "yvrrsAUj49ly"
      },
      "execution_count": 175,
      "outputs": []
    },
    {
      "cell_type": "markdown",
      "source": [
        "## Visualzation"
      ],
      "metadata": {
        "id": "e28NiHSkPhg2"
      }
    },
    {
      "cell_type": "code",
      "source": [
        "#sample data top 5 rows\n",
        "df.head()"
      ],
      "metadata": {
        "colab": {
          "base_uri": "https://localhost:8080/",
          "height": 206
        },
        "id": "oVy38Z0n1jpA",
        "outputId": "ad9c3b35-670c-4512-a045-f5925e817b04"
      },
      "execution_count": 176,
      "outputs": [
        {
          "output_type": "execute_result",
          "data": {
            "text/plain": [
              "  District_Name  Crop_Year      Season           Crop   Area  Production\n",
              "0      ARIYALUR       2009      Kharif           Rice  25978     80462.0\n",
              "1      ARIYALUR       2009      Kharif  Small millets    404       649.0\n",
              "2      ARIYALUR       2009  Whole Year      Arhar/Tur    160       122.0\n",
              "3      ARIYALUR       2009  Whole Year          Bajra    644      1082.0\n",
              "4      ARIYALUR       2009  Whole Year         Banana    134      5761.0"
            ],
            "text/html": [
              "\n",
              "  <div id=\"df-1795e6fb-0a0f-4d71-8e86-e91f687f3479\" class=\"colab-df-container\">\n",
              "    <div>\n",
              "<style scoped>\n",
              "    .dataframe tbody tr th:only-of-type {\n",
              "        vertical-align: middle;\n",
              "    }\n",
              "\n",
              "    .dataframe tbody tr th {\n",
              "        vertical-align: top;\n",
              "    }\n",
              "\n",
              "    .dataframe thead th {\n",
              "        text-align: right;\n",
              "    }\n",
              "</style>\n",
              "<table border=\"1\" class=\"dataframe\">\n",
              "  <thead>\n",
              "    <tr style=\"text-align: right;\">\n",
              "      <th></th>\n",
              "      <th>District_Name</th>\n",
              "      <th>Crop_Year</th>\n",
              "      <th>Season</th>\n",
              "      <th>Crop</th>\n",
              "      <th>Area</th>\n",
              "      <th>Production</th>\n",
              "    </tr>\n",
              "  </thead>\n",
              "  <tbody>\n",
              "    <tr>\n",
              "      <th>0</th>\n",
              "      <td>ARIYALUR</td>\n",
              "      <td>2009</td>\n",
              "      <td>Kharif</td>\n",
              "      <td>Rice</td>\n",
              "      <td>25978</td>\n",
              "      <td>80462.0</td>\n",
              "    </tr>\n",
              "    <tr>\n",
              "      <th>1</th>\n",
              "      <td>ARIYALUR</td>\n",
              "      <td>2009</td>\n",
              "      <td>Kharif</td>\n",
              "      <td>Small millets</td>\n",
              "      <td>404</td>\n",
              "      <td>649.0</td>\n",
              "    </tr>\n",
              "    <tr>\n",
              "      <th>2</th>\n",
              "      <td>ARIYALUR</td>\n",
              "      <td>2009</td>\n",
              "      <td>Whole Year</td>\n",
              "      <td>Arhar/Tur</td>\n",
              "      <td>160</td>\n",
              "      <td>122.0</td>\n",
              "    </tr>\n",
              "    <tr>\n",
              "      <th>3</th>\n",
              "      <td>ARIYALUR</td>\n",
              "      <td>2009</td>\n",
              "      <td>Whole Year</td>\n",
              "      <td>Bajra</td>\n",
              "      <td>644</td>\n",
              "      <td>1082.0</td>\n",
              "    </tr>\n",
              "    <tr>\n",
              "      <th>4</th>\n",
              "      <td>ARIYALUR</td>\n",
              "      <td>2009</td>\n",
              "      <td>Whole Year</td>\n",
              "      <td>Banana</td>\n",
              "      <td>134</td>\n",
              "      <td>5761.0</td>\n",
              "    </tr>\n",
              "  </tbody>\n",
              "</table>\n",
              "</div>\n",
              "    <div class=\"colab-df-buttons\">\n",
              "\n",
              "  <div class=\"colab-df-container\">\n",
              "    <button class=\"colab-df-convert\" onclick=\"convertToInteractive('df-1795e6fb-0a0f-4d71-8e86-e91f687f3479')\"\n",
              "            title=\"Convert this dataframe to an interactive table.\"\n",
              "            style=\"display:none;\">\n",
              "\n",
              "  <svg xmlns=\"http://www.w3.org/2000/svg\" height=\"24px\" viewBox=\"0 -960 960 960\">\n",
              "    <path d=\"M120-120v-720h720v720H120Zm60-500h600v-160H180v160Zm220 220h160v-160H400v160Zm0 220h160v-160H400v160ZM180-400h160v-160H180v160Zm440 0h160v-160H620v160ZM180-180h160v-160H180v160Zm440 0h160v-160H620v160Z\"/>\n",
              "  </svg>\n",
              "    </button>\n",
              "\n",
              "  <style>\n",
              "    .colab-df-container {\n",
              "      display:flex;\n",
              "      gap: 12px;\n",
              "    }\n",
              "\n",
              "    .colab-df-convert {\n",
              "      background-color: #E8F0FE;\n",
              "      border: none;\n",
              "      border-radius: 50%;\n",
              "      cursor: pointer;\n",
              "      display: none;\n",
              "      fill: #1967D2;\n",
              "      height: 32px;\n",
              "      padding: 0 0 0 0;\n",
              "      width: 32px;\n",
              "    }\n",
              "\n",
              "    .colab-df-convert:hover {\n",
              "      background-color: #E2EBFA;\n",
              "      box-shadow: 0px 1px 2px rgba(60, 64, 67, 0.3), 0px 1px 3px 1px rgba(60, 64, 67, 0.15);\n",
              "      fill: #174EA6;\n",
              "    }\n",
              "\n",
              "    .colab-df-buttons div {\n",
              "      margin-bottom: 4px;\n",
              "    }\n",
              "\n",
              "    [theme=dark] .colab-df-convert {\n",
              "      background-color: #3B4455;\n",
              "      fill: #D2E3FC;\n",
              "    }\n",
              "\n",
              "    [theme=dark] .colab-df-convert:hover {\n",
              "      background-color: #434B5C;\n",
              "      box-shadow: 0px 1px 3px 1px rgba(0, 0, 0, 0.15);\n",
              "      filter: drop-shadow(0px 1px 2px rgba(0, 0, 0, 0.3));\n",
              "      fill: #FFFFFF;\n",
              "    }\n",
              "  </style>\n",
              "\n",
              "    <script>\n",
              "      const buttonEl =\n",
              "        document.querySelector('#df-1795e6fb-0a0f-4d71-8e86-e91f687f3479 button.colab-df-convert');\n",
              "      buttonEl.style.display =\n",
              "        google.colab.kernel.accessAllowed ? 'block' : 'none';\n",
              "\n",
              "      async function convertToInteractive(key) {\n",
              "        const element = document.querySelector('#df-1795e6fb-0a0f-4d71-8e86-e91f687f3479');\n",
              "        const dataTable =\n",
              "          await google.colab.kernel.invokeFunction('convertToInteractive',\n",
              "                                                    [key], {});\n",
              "        if (!dataTable) return;\n",
              "\n",
              "        const docLinkHtml = 'Like what you see? Visit the ' +\n",
              "          '<a target=\"_blank\" href=https://colab.research.google.com/notebooks/data_table.ipynb>data table notebook</a>'\n",
              "          + ' to learn more about interactive tables.';\n",
              "        element.innerHTML = '';\n",
              "        dataTable['output_type'] = 'display_data';\n",
              "        await google.colab.output.renderOutput(dataTable, element);\n",
              "        const docLink = document.createElement('div');\n",
              "        docLink.innerHTML = docLinkHtml;\n",
              "        element.appendChild(docLink);\n",
              "      }\n",
              "    </script>\n",
              "  </div>\n",
              "\n",
              "\n",
              "<div id=\"df-6e9f1875-eac2-432f-858a-92b06771243a\">\n",
              "  <button class=\"colab-df-quickchart\" onclick=\"quickchart('df-6e9f1875-eac2-432f-858a-92b06771243a')\"\n",
              "            title=\"Suggest charts\"\n",
              "            style=\"display:none;\">\n",
              "\n",
              "<svg xmlns=\"http://www.w3.org/2000/svg\" height=\"24px\"viewBox=\"0 0 24 24\"\n",
              "     width=\"24px\">\n",
              "    <g>\n",
              "        <path d=\"M19 3H5c-1.1 0-2 .9-2 2v14c0 1.1.9 2 2 2h14c1.1 0 2-.9 2-2V5c0-1.1-.9-2-2-2zM9 17H7v-7h2v7zm4 0h-2V7h2v10zm4 0h-2v-4h2v4z\"/>\n",
              "    </g>\n",
              "</svg>\n",
              "  </button>\n",
              "\n",
              "<style>\n",
              "  .colab-df-quickchart {\n",
              "      --bg-color: #E8F0FE;\n",
              "      --fill-color: #1967D2;\n",
              "      --hover-bg-color: #E2EBFA;\n",
              "      --hover-fill-color: #174EA6;\n",
              "      --disabled-fill-color: #AAA;\n",
              "      --disabled-bg-color: #DDD;\n",
              "  }\n",
              "\n",
              "  [theme=dark] .colab-df-quickchart {\n",
              "      --bg-color: #3B4455;\n",
              "      --fill-color: #D2E3FC;\n",
              "      --hover-bg-color: #434B5C;\n",
              "      --hover-fill-color: #FFFFFF;\n",
              "      --disabled-bg-color: #3B4455;\n",
              "      --disabled-fill-color: #666;\n",
              "  }\n",
              "\n",
              "  .colab-df-quickchart {\n",
              "    background-color: var(--bg-color);\n",
              "    border: none;\n",
              "    border-radius: 50%;\n",
              "    cursor: pointer;\n",
              "    display: none;\n",
              "    fill: var(--fill-color);\n",
              "    height: 32px;\n",
              "    padding: 0;\n",
              "    width: 32px;\n",
              "  }\n",
              "\n",
              "  .colab-df-quickchart:hover {\n",
              "    background-color: var(--hover-bg-color);\n",
              "    box-shadow: 0 1px 2px rgba(60, 64, 67, 0.3), 0 1px 3px 1px rgba(60, 64, 67, 0.15);\n",
              "    fill: var(--button-hover-fill-color);\n",
              "  }\n",
              "\n",
              "  .colab-df-quickchart-complete:disabled,\n",
              "  .colab-df-quickchart-complete:disabled:hover {\n",
              "    background-color: var(--disabled-bg-color);\n",
              "    fill: var(--disabled-fill-color);\n",
              "    box-shadow: none;\n",
              "  }\n",
              "\n",
              "  .colab-df-spinner {\n",
              "    border: 2px solid var(--fill-color);\n",
              "    border-color: transparent;\n",
              "    border-bottom-color: var(--fill-color);\n",
              "    animation:\n",
              "      spin 1s steps(1) infinite;\n",
              "  }\n",
              "\n",
              "  @keyframes spin {\n",
              "    0% {\n",
              "      border-color: transparent;\n",
              "      border-bottom-color: var(--fill-color);\n",
              "      border-left-color: var(--fill-color);\n",
              "    }\n",
              "    20% {\n",
              "      border-color: transparent;\n",
              "      border-left-color: var(--fill-color);\n",
              "      border-top-color: var(--fill-color);\n",
              "    }\n",
              "    30% {\n",
              "      border-color: transparent;\n",
              "      border-left-color: var(--fill-color);\n",
              "      border-top-color: var(--fill-color);\n",
              "      border-right-color: var(--fill-color);\n",
              "    }\n",
              "    40% {\n",
              "      border-color: transparent;\n",
              "      border-right-color: var(--fill-color);\n",
              "      border-top-color: var(--fill-color);\n",
              "    }\n",
              "    60% {\n",
              "      border-color: transparent;\n",
              "      border-right-color: var(--fill-color);\n",
              "    }\n",
              "    80% {\n",
              "      border-color: transparent;\n",
              "      border-right-color: var(--fill-color);\n",
              "      border-bottom-color: var(--fill-color);\n",
              "    }\n",
              "    90% {\n",
              "      border-color: transparent;\n",
              "      border-bottom-color: var(--fill-color);\n",
              "    }\n",
              "  }\n",
              "</style>\n",
              "\n",
              "  <script>\n",
              "    async function quickchart(key) {\n",
              "      const quickchartButtonEl =\n",
              "        document.querySelector('#' + key + ' button');\n",
              "      quickchartButtonEl.disabled = true;  // To prevent multiple clicks.\n",
              "      quickchartButtonEl.classList.add('colab-df-spinner');\n",
              "      try {\n",
              "        const charts = await google.colab.kernel.invokeFunction(\n",
              "            'suggestCharts', [key], {});\n",
              "      } catch (error) {\n",
              "        console.error('Error during call to suggestCharts:', error);\n",
              "      }\n",
              "      quickchartButtonEl.classList.remove('colab-df-spinner');\n",
              "      quickchartButtonEl.classList.add('colab-df-quickchart-complete');\n",
              "    }\n",
              "    (() => {\n",
              "      let quickchartButtonEl =\n",
              "        document.querySelector('#df-6e9f1875-eac2-432f-858a-92b06771243a button');\n",
              "      quickchartButtonEl.style.display =\n",
              "        google.colab.kernel.accessAllowed ? 'block' : 'none';\n",
              "    })();\n",
              "  </script>\n",
              "</div>\n",
              "\n",
              "    </div>\n",
              "  </div>\n"
            ]
          },
          "metadata": {},
          "execution_count": 176
        }
      ]
    },
    {
      "cell_type": "code",
      "source": [
        "# basic stats of the data set\n",
        "round(df.describe())"
      ],
      "metadata": {
        "colab": {
          "base_uri": "https://localhost:8080/",
          "height": 300
        },
        "id": "s7YGSkf1QMqf",
        "outputId": "1687a12d-d8a0-4c65-e9f3-0a42b8bc902d"
      },
      "execution_count": 177,
      "outputs": [
        {
          "output_type": "execute_result",
          "data": {
            "text/plain": [
              "       Crop_Year      Area  Production\n",
              "count     3333.0    3333.0      3333.0\n",
              "mean      2011.0    6063.0     72817.0\n",
              "std          2.0   17850.0    423836.0\n",
              "min       2009.0       1.0         0.0\n",
              "25%       2010.0      57.0        66.0\n",
              "50%       2011.0     638.0       810.0\n",
              "75%       2013.0    3856.0     10486.0\n",
              "max       2013.0  186307.0  10598908.0"
            ],
            "text/html": [
              "\n",
              "  <div id=\"df-e338e8ec-23ee-4802-bba2-75050800c951\" class=\"colab-df-container\">\n",
              "    <div>\n",
              "<style scoped>\n",
              "    .dataframe tbody tr th:only-of-type {\n",
              "        vertical-align: middle;\n",
              "    }\n",
              "\n",
              "    .dataframe tbody tr th {\n",
              "        vertical-align: top;\n",
              "    }\n",
              "\n",
              "    .dataframe thead th {\n",
              "        text-align: right;\n",
              "    }\n",
              "</style>\n",
              "<table border=\"1\" class=\"dataframe\">\n",
              "  <thead>\n",
              "    <tr style=\"text-align: right;\">\n",
              "      <th></th>\n",
              "      <th>Crop_Year</th>\n",
              "      <th>Area</th>\n",
              "      <th>Production</th>\n",
              "    </tr>\n",
              "  </thead>\n",
              "  <tbody>\n",
              "    <tr>\n",
              "      <th>count</th>\n",
              "      <td>3333.0</td>\n",
              "      <td>3333.0</td>\n",
              "      <td>3333.0</td>\n",
              "    </tr>\n",
              "    <tr>\n",
              "      <th>mean</th>\n",
              "      <td>2011.0</td>\n",
              "      <td>6063.0</td>\n",
              "      <td>72817.0</td>\n",
              "    </tr>\n",
              "    <tr>\n",
              "      <th>std</th>\n",
              "      <td>2.0</td>\n",
              "      <td>17850.0</td>\n",
              "      <td>423836.0</td>\n",
              "    </tr>\n",
              "    <tr>\n",
              "      <th>min</th>\n",
              "      <td>2009.0</td>\n",
              "      <td>1.0</td>\n",
              "      <td>0.0</td>\n",
              "    </tr>\n",
              "    <tr>\n",
              "      <th>25%</th>\n",
              "      <td>2010.0</td>\n",
              "      <td>57.0</td>\n",
              "      <td>66.0</td>\n",
              "    </tr>\n",
              "    <tr>\n",
              "      <th>50%</th>\n",
              "      <td>2011.0</td>\n",
              "      <td>638.0</td>\n",
              "      <td>810.0</td>\n",
              "    </tr>\n",
              "    <tr>\n",
              "      <th>75%</th>\n",
              "      <td>2013.0</td>\n",
              "      <td>3856.0</td>\n",
              "      <td>10486.0</td>\n",
              "    </tr>\n",
              "    <tr>\n",
              "      <th>max</th>\n",
              "      <td>2013.0</td>\n",
              "      <td>186307.0</td>\n",
              "      <td>10598908.0</td>\n",
              "    </tr>\n",
              "  </tbody>\n",
              "</table>\n",
              "</div>\n",
              "    <div class=\"colab-df-buttons\">\n",
              "\n",
              "  <div class=\"colab-df-container\">\n",
              "    <button class=\"colab-df-convert\" onclick=\"convertToInteractive('df-e338e8ec-23ee-4802-bba2-75050800c951')\"\n",
              "            title=\"Convert this dataframe to an interactive table.\"\n",
              "            style=\"display:none;\">\n",
              "\n",
              "  <svg xmlns=\"http://www.w3.org/2000/svg\" height=\"24px\" viewBox=\"0 -960 960 960\">\n",
              "    <path d=\"M120-120v-720h720v720H120Zm60-500h600v-160H180v160Zm220 220h160v-160H400v160Zm0 220h160v-160H400v160ZM180-400h160v-160H180v160Zm440 0h160v-160H620v160ZM180-180h160v-160H180v160Zm440 0h160v-160H620v160Z\"/>\n",
              "  </svg>\n",
              "    </button>\n",
              "\n",
              "  <style>\n",
              "    .colab-df-container {\n",
              "      display:flex;\n",
              "      gap: 12px;\n",
              "    }\n",
              "\n",
              "    .colab-df-convert {\n",
              "      background-color: #E8F0FE;\n",
              "      border: none;\n",
              "      border-radius: 50%;\n",
              "      cursor: pointer;\n",
              "      display: none;\n",
              "      fill: #1967D2;\n",
              "      height: 32px;\n",
              "      padding: 0 0 0 0;\n",
              "      width: 32px;\n",
              "    }\n",
              "\n",
              "    .colab-df-convert:hover {\n",
              "      background-color: #E2EBFA;\n",
              "      box-shadow: 0px 1px 2px rgba(60, 64, 67, 0.3), 0px 1px 3px 1px rgba(60, 64, 67, 0.15);\n",
              "      fill: #174EA6;\n",
              "    }\n",
              "\n",
              "    .colab-df-buttons div {\n",
              "      margin-bottom: 4px;\n",
              "    }\n",
              "\n",
              "    [theme=dark] .colab-df-convert {\n",
              "      background-color: #3B4455;\n",
              "      fill: #D2E3FC;\n",
              "    }\n",
              "\n",
              "    [theme=dark] .colab-df-convert:hover {\n",
              "      background-color: #434B5C;\n",
              "      box-shadow: 0px 1px 3px 1px rgba(0, 0, 0, 0.15);\n",
              "      filter: drop-shadow(0px 1px 2px rgba(0, 0, 0, 0.3));\n",
              "      fill: #FFFFFF;\n",
              "    }\n",
              "  </style>\n",
              "\n",
              "    <script>\n",
              "      const buttonEl =\n",
              "        document.querySelector('#df-e338e8ec-23ee-4802-bba2-75050800c951 button.colab-df-convert');\n",
              "      buttonEl.style.display =\n",
              "        google.colab.kernel.accessAllowed ? 'block' : 'none';\n",
              "\n",
              "      async function convertToInteractive(key) {\n",
              "        const element = document.querySelector('#df-e338e8ec-23ee-4802-bba2-75050800c951');\n",
              "        const dataTable =\n",
              "          await google.colab.kernel.invokeFunction('convertToInteractive',\n",
              "                                                    [key], {});\n",
              "        if (!dataTable) return;\n",
              "\n",
              "        const docLinkHtml = 'Like what you see? Visit the ' +\n",
              "          '<a target=\"_blank\" href=https://colab.research.google.com/notebooks/data_table.ipynb>data table notebook</a>'\n",
              "          + ' to learn more about interactive tables.';\n",
              "        element.innerHTML = '';\n",
              "        dataTable['output_type'] = 'display_data';\n",
              "        await google.colab.output.renderOutput(dataTable, element);\n",
              "        const docLink = document.createElement('div');\n",
              "        docLink.innerHTML = docLinkHtml;\n",
              "        element.appendChild(docLink);\n",
              "      }\n",
              "    </script>\n",
              "  </div>\n",
              "\n",
              "\n",
              "<div id=\"df-cb0aaa17-1ca4-4a0f-afb2-bf3ec2d70c39\">\n",
              "  <button class=\"colab-df-quickchart\" onclick=\"quickchart('df-cb0aaa17-1ca4-4a0f-afb2-bf3ec2d70c39')\"\n",
              "            title=\"Suggest charts\"\n",
              "            style=\"display:none;\">\n",
              "\n",
              "<svg xmlns=\"http://www.w3.org/2000/svg\" height=\"24px\"viewBox=\"0 0 24 24\"\n",
              "     width=\"24px\">\n",
              "    <g>\n",
              "        <path d=\"M19 3H5c-1.1 0-2 .9-2 2v14c0 1.1.9 2 2 2h14c1.1 0 2-.9 2-2V5c0-1.1-.9-2-2-2zM9 17H7v-7h2v7zm4 0h-2V7h2v10zm4 0h-2v-4h2v4z\"/>\n",
              "    </g>\n",
              "</svg>\n",
              "  </button>\n",
              "\n",
              "<style>\n",
              "  .colab-df-quickchart {\n",
              "      --bg-color: #E8F0FE;\n",
              "      --fill-color: #1967D2;\n",
              "      --hover-bg-color: #E2EBFA;\n",
              "      --hover-fill-color: #174EA6;\n",
              "      --disabled-fill-color: #AAA;\n",
              "      --disabled-bg-color: #DDD;\n",
              "  }\n",
              "\n",
              "  [theme=dark] .colab-df-quickchart {\n",
              "      --bg-color: #3B4455;\n",
              "      --fill-color: #D2E3FC;\n",
              "      --hover-bg-color: #434B5C;\n",
              "      --hover-fill-color: #FFFFFF;\n",
              "      --disabled-bg-color: #3B4455;\n",
              "      --disabled-fill-color: #666;\n",
              "  }\n",
              "\n",
              "  .colab-df-quickchart {\n",
              "    background-color: var(--bg-color);\n",
              "    border: none;\n",
              "    border-radius: 50%;\n",
              "    cursor: pointer;\n",
              "    display: none;\n",
              "    fill: var(--fill-color);\n",
              "    height: 32px;\n",
              "    padding: 0;\n",
              "    width: 32px;\n",
              "  }\n",
              "\n",
              "  .colab-df-quickchart:hover {\n",
              "    background-color: var(--hover-bg-color);\n",
              "    box-shadow: 0 1px 2px rgba(60, 64, 67, 0.3), 0 1px 3px 1px rgba(60, 64, 67, 0.15);\n",
              "    fill: var(--button-hover-fill-color);\n",
              "  }\n",
              "\n",
              "  .colab-df-quickchart-complete:disabled,\n",
              "  .colab-df-quickchart-complete:disabled:hover {\n",
              "    background-color: var(--disabled-bg-color);\n",
              "    fill: var(--disabled-fill-color);\n",
              "    box-shadow: none;\n",
              "  }\n",
              "\n",
              "  .colab-df-spinner {\n",
              "    border: 2px solid var(--fill-color);\n",
              "    border-color: transparent;\n",
              "    border-bottom-color: var(--fill-color);\n",
              "    animation:\n",
              "      spin 1s steps(1) infinite;\n",
              "  }\n",
              "\n",
              "  @keyframes spin {\n",
              "    0% {\n",
              "      border-color: transparent;\n",
              "      border-bottom-color: var(--fill-color);\n",
              "      border-left-color: var(--fill-color);\n",
              "    }\n",
              "    20% {\n",
              "      border-color: transparent;\n",
              "      border-left-color: var(--fill-color);\n",
              "      border-top-color: var(--fill-color);\n",
              "    }\n",
              "    30% {\n",
              "      border-color: transparent;\n",
              "      border-left-color: var(--fill-color);\n",
              "      border-top-color: var(--fill-color);\n",
              "      border-right-color: var(--fill-color);\n",
              "    }\n",
              "    40% {\n",
              "      border-color: transparent;\n",
              "      border-right-color: var(--fill-color);\n",
              "      border-top-color: var(--fill-color);\n",
              "    }\n",
              "    60% {\n",
              "      border-color: transparent;\n",
              "      border-right-color: var(--fill-color);\n",
              "    }\n",
              "    80% {\n",
              "      border-color: transparent;\n",
              "      border-right-color: var(--fill-color);\n",
              "      border-bottom-color: var(--fill-color);\n",
              "    }\n",
              "    90% {\n",
              "      border-color: transparent;\n",
              "      border-bottom-color: var(--fill-color);\n",
              "    }\n",
              "  }\n",
              "</style>\n",
              "\n",
              "  <script>\n",
              "    async function quickchart(key) {\n",
              "      const quickchartButtonEl =\n",
              "        document.querySelector('#' + key + ' button');\n",
              "      quickchartButtonEl.disabled = true;  // To prevent multiple clicks.\n",
              "      quickchartButtonEl.classList.add('colab-df-spinner');\n",
              "      try {\n",
              "        const charts = await google.colab.kernel.invokeFunction(\n",
              "            'suggestCharts', [key], {});\n",
              "      } catch (error) {\n",
              "        console.error('Error during call to suggestCharts:', error);\n",
              "      }\n",
              "      quickchartButtonEl.classList.remove('colab-df-spinner');\n",
              "      quickchartButtonEl.classList.add('colab-df-quickchart-complete');\n",
              "    }\n",
              "    (() => {\n",
              "      let quickchartButtonEl =\n",
              "        document.querySelector('#df-cb0aaa17-1ca4-4a0f-afb2-bf3ec2d70c39 button');\n",
              "      quickchartButtonEl.style.display =\n",
              "        google.colab.kernel.accessAllowed ? 'block' : 'none';\n",
              "    })();\n",
              "  </script>\n",
              "</div>\n",
              "\n",
              "    </div>\n",
              "  </div>\n"
            ]
          },
          "metadata": {},
          "execution_count": 177
        }
      ]
    },
    {
      "cell_type": "markdown",
      "source": [
        "District wise overall prodution of all crops"
      ],
      "metadata": {
        "id": "siYNxuJNTQWF"
      }
    },
    {
      "cell_type": "code",
      "source": [
        "#\n",
        "plt.figure(figsize=(12, 8))\n",
        "sns.barplot(ci=False,\n",
        "            data=df,\n",
        "            y='District_Name',\n",
        "            x='Production'\n",
        "            )\n",
        "plt.title(\"production of each district irespective of corp type \")"
      ],
      "metadata": {
        "colab": {
          "base_uri": "https://localhost:8080/",
          "height": 735
        },
        "id": "-ijwlTEKEYMR",
        "outputId": "9269c5f9-8f20-4e64-a997-b881c0a4d13e"
      },
      "execution_count": 178,
      "outputs": [
        {
          "output_type": "execute_result",
          "data": {
            "text/plain": [
              "Text(0.5, 1.0, 'production of each district irespective of corp type ')"
            ]
          },
          "metadata": {},
          "execution_count": 178
        },
        {
          "output_type": "display_data",
          "data": {
            "text/plain": [
              "<Figure size 1200x800 with 1 Axes>"
            ],
            "image/png": "[encoded data removed]"
          },
          "metadata": {}
        }
      ]
    },
    {
      "cell_type": "markdown",
      "source": [
        "select a district to view overall production and season wise production"
      ],
      "metadata": {
        "id": "fz9pHx5pTaTE"
      }
    },
    {
      "cell_type": "code",
      "source": [
        "# District wise contribution irrespective of crops\n",
        "\n",
        "dd1=Dropdown(options=dic_list,value='NONE',description='Dictrict')\n",
        "display(dd1)\n",
        "\n",
        "#funtion\n",
        "def on_change(change):\n",
        "  if change['type']=='change' and change['name']=='value':\n",
        "    dic=change['new']\n",
        "    # code the needed statement down\n",
        "\n",
        "    cf=df.loc[df['District_Name']==dic]\n",
        "    cf_kharif=cf.loc[cf['Season']=='Kharif']\n",
        "    cf_rabi=cf.loc[cf['Season']=='Rabi']\n",
        "    cf_Whyear=cf.loc[cf['Season']=='Whole Year']\n",
        "\n",
        "    #plot district crop production irespective of season\n",
        "    plt.figure(figsize=(20,5))\n",
        "    plt.subplot(1,2,1)\n",
        "    plt.title('crop production irespective of season')\n",
        "    cf.groupby('Crop').size().plot(kind='bar')\n",
        "    plt.xlabel('')\n",
        "    plt.ylabel('')\n",
        "    plt.subplot(1,2,2)\n",
        "    sns.barplot(ci=False,data=cf,y='Production',x='Crop')\n",
        "    plt.xlabel('')\n",
        "    plt.ylabel('')\n",
        "    plt.xticks(rotation=90);\n",
        "\n",
        "    #ploting subplot for Three season\n",
        "    #Kharif\n",
        "    plt.figure(figsize=(20,5))\n",
        "    plt.subplot(1,2,1)\n",
        "    plt.title('crop production for kharif season')\n",
        "    cf_kharif.groupby('Crop').size().plot(kind='bar')\n",
        "    plt.xlabel('')\n",
        "    plt.ylabel('')\n",
        "    plt.subplot(1,2,2)\n",
        "    sns.barplot(ci=False,data=cf_kharif,y='Production',x='Crop')\n",
        "    plt.xlabel('')\n",
        "    plt.ylabel('')\n",
        "    plt.xticks(rotation=90);\n",
        "\n",
        "    #Rabi\n",
        "    plt.figure(figsize=(20,5))\n",
        "    plt.subplot(1,2,1)\n",
        "    plt.title('crop production for Rabi season')\n",
        "    cf_rabi.groupby('Crop').size().plot(kind='bar')\n",
        "    plt.xlabel('')\n",
        "    plt.ylabel('')\n",
        "    plt.subplot(1,2,2)\n",
        "    sns.barplot(ci=False,data=cf_rabi,y='Production',x='Crop')\n",
        "    plt.xlabel('')\n",
        "    plt.ylabel('')\n",
        "    plt.xticks(rotation=90);\n",
        "\n",
        "    #Whole year\n",
        "    plt.figure(figsize=(20,5))\n",
        "    plt.subplot(1,2,1)\n",
        "    plt.title('crop production for Whole year season')\n",
        "    cf_Whyear.groupby('Crop').size().plot(kind='bar')\n",
        "    plt.xlabel('')\n",
        "    plt.ylabel('')\n",
        "    plt.subplot(1,2,2)\n",
        "    sns.barplot(ci=False,data=cf_Whyear,y='Production',x='Crop')\n",
        "    plt.xlabel('')\n",
        "    plt.ylabel('')\n",
        "    plt.xticks(rotation=90);\n",
        "\n",
        "\n",
        "dd1.observe(on_change)"
      ],
      "metadata": {
        "colab": {
          "base_uri": "https://localhost:8080/",
          "height": 49,
          "referenced_widgets": [
            "868c0f34720a4c2197499cfa8a811aff",
            "a30d4990fbbf4d149f4a19da603ba06d",
            "785eae3c597f493f88c010525d7e8983"
          ]
        },
        "id": "70c3L0ZI6lRy",
        "outputId": "ec4598cd-e1c1-4a95-c230-6551fa2680fe"
      },
      "execution_count": 179,
      "outputs": [
        {
          "output_type": "display_data",
          "data": {
            "text/plain": [
              "Dropdown(description='Dictrict', options=('NONE', 'ARIYALUR', 'COIMBATORE', 'CUDDALORE', 'DHARMAPURI', 'DINDIG…"
            ],
            "application/vnd.jupyter.widget-view+json": {
              "version_major": 2,
              "version_minor": 0,
              "model_id": "868c0f34720a4c2197499cfa8a811aff"
            }
          },
          "metadata": {}
        }
      ]
    },
    {
      "cell_type": "code",
      "source": [
        "#count of data records in each year\n",
        "df.groupby('Crop_Year').size().plot(kind='pie')"
      ],
      "metadata": {
        "colab": {
          "base_uri": "https://localhost:8080/",
          "height": 423
        },
        "id": "QViBeY5zWPLq",
        "outputId": "d05f5042-0484-4f55-f801-bd4c905d049c"
      },
      "execution_count": 180,
      "outputs": [
        {
          "output_type": "execute_result",
          "data": {
            "text/plain": [
              "<Axes: >"
            ]
          },
          "metadata": {},
          "execution_count": 180
        },
        {
          "output_type": "display_data",
          "data": {
            "text/plain": [
              "<Figure size 640x480 with 1 Axes>"
            ],
            "image/png": "[encoded data removed]"
          },
          "metadata": {}
        }
      ]
    },
    {
      "cell_type": "code",
      "source": [
        "# summation of total production and area grouped for each year\n",
        "df.groupby('Crop_Year').sum().plot(kind='bar')"
      ],
      "metadata": {
        "colab": {
          "base_uri": "https://localhost:8080/",
          "height": 503
        },
        "id": "U_kDFgrCV05s",
        "outputId": "c1ac37c7-cb9b-4170-ef1a-7b83027bfd18"
      },
      "execution_count": 181,
      "outputs": [
        {
          "output_type": "execute_result",
          "data": {
            "text/plain": [
              "<Axes: xlabel='Crop_Year'>"
            ]
          },
          "metadata": {},
          "execution_count": 181
        },
        {
          "output_type": "display_data",
          "data": {
            "text/plain": [
              "<Figure size 640x480 with 1 Axes>"
            ],
            "image/png": "[encoded data removed]"
          },
          "metadata": {}
        }
      ]
    },
    {
      "cell_type": "markdown",
      "source": [
        "select a year to see district wise production and each crop production"
      ],
      "metadata": {
        "id": "8YnJ5BxKW8Le"
      }
    },
    {
      "cell_type": "code",
      "source": [
        "dd2=Dropdown(options=year_list,value='NONE',description='Select a year')\n",
        "display(dd2)\n",
        "\n",
        "def on_change1(change):\n",
        "  if change['type']=='change' and change['name']=='value':\n",
        "    yr=change['new']\n",
        "\n",
        "    cf=df.loc[df['Crop_Year']==yr]\n",
        "    cf_kharif=cf.loc[cf['Season']=='Kharif']\n",
        "    cf_rabi=cf.loc[cf['Season']=='Rabi']\n",
        "    cf_Whyear=cf.loc[cf['Season']=='Whole Year']\n",
        "    #plotings\n",
        "    plt.figure(figsize=(20,5))\n",
        "    plt.subplot(1,2,1)\n",
        "    plt.title('Crop production by each district for the selected year')\n",
        "    sns.barplot(ci=False,data=cf,y='Production',x='District_Name')\n",
        "    plt.xticks(rotation=90);\n",
        "    plt.xlabel('')\n",
        "    plt.ylabel('')\n",
        "    plt.subplot(1,2,2)\n",
        "    sns.barplot(ci=False,data=cf,y='Production',x='Crop')\n",
        "    plt.xticks(rotation=90);\n",
        "    plt.xlabel('')\n",
        "    plt.ylabel('')\n",
        "#kharif season\n",
        "    plt.figure(figsize=(20,5))\n",
        "    plt.subplot(1,2,1)\n",
        "    plt.title('Crop production in Kharif season for the year')\n",
        "    sns.barplot(ci=False,data=cf_kharif,y='Production',x='District_Name')\n",
        "    plt.xticks(rotation=90);\n",
        "    plt.xlabel('')\n",
        "    plt.ylabel('')\n",
        "    plt.subplot(1,2,2)\n",
        "    sns.barplot(ci=False,data=cf_kharif,y='Production',x='Crop')\n",
        "    plt.xticks(rotation=90);\n",
        "    plt.xlabel('')\n",
        "    plt.ylabel('')\n",
        "#Rabi\n",
        "    plt.figure(figsize=(20,5))\n",
        "    plt.subplot(1,2,1)\n",
        "    plt.title('Crop production in rabi season for the year')\n",
        "    sns.barplot(ci=False,data=cf_rabi,y='Production',x='District_Name')\n",
        "    plt.xticks(rotation=90);\n",
        "    plt.xlabel('')\n",
        "    plt.ylabel('')\n",
        "    plt.subplot(1,2,2)\n",
        "    sns.barplot(ci=False,data=cf_rabi,y='Production',x='Crop')\n",
        "    plt.xticks(rotation=90);\n",
        "    plt.xlabel('')\n",
        "    plt.ylabel('')\n",
        "#whole year\n",
        "    plt.figure(figsize=(20,5))\n",
        "    plt.subplot(1,2,1)\n",
        "    plt.title('Crop production in whole year for the year')\n",
        "    sns.barplot(ci=False,data=cf_Whyear,y='Production',x='District_Name')\n",
        "    plt.xticks(rotation=90);\n",
        "    plt.xlabel('')\n",
        "    plt.ylabel('')\n",
        "    plt.subplot(1,2,2)\n",
        "    sns.barplot(ci=False,data=cf_Whyear,y='Production',x='Crop');\n",
        "    plt.xticks(rotation=90);\n",
        "    plt.xlabel('');\n",
        "    plt.ylabel('');\n",
        "\n",
        "\n",
        "\n",
        "dd2.observe(on_change1)"
      ],
      "metadata": {
        "colab": {
          "base_uri": "https://localhost:8080/",
          "height": 49,
          "referenced_widgets": [
            "6b104bea157c4333af6d49e52633c421",
            "9c6fc5319fe746f18e9f4e82b6fe33cd",
            "e9bd151bd8014449929be7528a47197c"
          ]
        },
        "id": "o9PqhPNQBB7X",
        "outputId": "9a8e6e56-6df8-46fa-9116-9e4d9e61d96a"
      },
      "execution_count": 182,
      "outputs": [
        {
          "output_type": "display_data",
          "data": {
            "text/plain": [
              "Dropdown(description='Select a year', options=('NONE', 2009, 2010, 2011, 2012, 2013), value='NONE')"
            ],
            "application/vnd.jupyter.widget-view+json": {
              "version_major": 2,
              "version_minor": 0,
              "model_id": "6b104bea157c4333af6d49e52633c421"
            }
          },
          "metadata": {}
        }
      ]
    },
    {
      "cell_type": "markdown",
      "source": [
        "Filter based on the year district season"
      ],
      "metadata": {
        "id": "0VdcZ--bXWbq"
      }
    },
    {
      "cell_type": "code",
      "source": [
        "\n",
        "dd3=Dropdown(options=year_list,value='NONE',description='Select a year')\n",
        "dd4=Dropdown(options=dic_list,value='NONE',description='District')\n",
        "dd5=Dropdown(options=sea_list,value='NONE',description='Season')\n",
        "btn1=widgets.Button(description='SUBMIT')\n",
        "display(dd3)\n",
        "display(dd4)\n",
        "display(dd5)\n",
        "display(btn1)\n",
        "\n",
        "\n",
        "\n",
        "def fun(arg):\n",
        "  yr=dd3.value\n",
        "  dic=dd4.value\n",
        "  sea=dd5.value\n",
        "  print(yr)\n",
        "  print(dic)\n",
        "  print(sea)\n",
        "\n",
        "  if yr!='NONE':\n",
        "    cf2=df.loc[df['Crop_Year']==yr]\n",
        "  else:\n",
        "    cf2=df\n",
        "\n",
        "  if dic!='NONE':\n",
        "    cf2=cf2.loc[cf2['District_Name']==dic]\n",
        "\n",
        "  if sea!='NONE':\n",
        "    cf2=cf2.loc[cf2['Season']==sea]\n",
        "\n",
        "    size=cf2.size\n",
        "\n",
        "  print('====================================================================================================')\n",
        "  # display(cf2)\n",
        "  # print(cf2.shape)\n",
        "\n",
        "  print('Visualization for the selected data' )\n",
        "  print('====================================================================================================')\n",
        "\n",
        "  sns.barplot(ci=False,data=cf2,y='Crop',x='Production')\n",
        "\n",
        "\n",
        "btn1.on_click(fun)"
      ],
      "metadata": {
        "colab": {
          "base_uri": "https://localhost:8080/",
          "height": 141,
          "referenced_widgets": [
            "8d804a136cff45a1bb2f1fad79132861",
            "ef95c45aa656459f8e349f5114c9e2d4",
            "6785cedc80084a6a8f15d7e7390f5eea",
            "3b4ca51f5f574b3fa8d0dd9b16c50166",
            "ade7f7c93de34edc8237e031fcffcf92",
            "6512be17ffe541b4b5d3df5ddbe5cb2d",
            "d8c54e9582284869a2d612422b0f5e59",
            "ed22269ce3e447458f75d82123aaa9b2",
            "3151dbc067ec481f9f4684dd50e9369e",
            "d77497b9cfcf4c468542b2926c649d9d",
            "4cbc284f007e451a8353551a6fb33925",
            "191dc2501250431e8835e9e3ba2ae1ee"
          ]
        },
        "id": "cA_oLRR-m4E1",
        "outputId": "74c2ac09-c494-4221-f449-b05343c91b5c"
      },
      "execution_count": 183,
      "outputs": [
        {
          "output_type": "display_data",
          "data": {
            "text/plain": [
              "Dropdown(description='Select a year', options=('NONE', 2009, 2010, 2011, 2012, 2013), value='NONE')"
            ],
            "application/vnd.jupyter.widget-view+json": {
              "version_major": 2,
              "version_minor": 0,
              "model_id": "8d804a136cff45a1bb2f1fad79132861"
            }
          },
          "metadata": {}
        },
        {
          "output_type": "display_data",
          "data": {
            "text/plain": [
              "Dropdown(description='District', options=('NONE', 'ARIYALUR', 'COIMBATORE', 'CUDDALORE', 'DHARMAPURI', 'DINDIG…"
            ],
            "application/vnd.jupyter.widget-view+json": {
              "version_major": 2,
              "version_minor": 0,
              "model_id": "3b4ca51f5f574b3fa8d0dd9b16c50166"
            }
          },
          "metadata": {}
        },
        {
          "output_type": "display_data",
          "data": {
            "text/plain": [
              "Dropdown(description='Season', options=('NONE', 'Kharif', 'Rabi', 'Whole Year'), value='NONE')"
            ],
            "application/vnd.jupyter.widget-view+json": {
              "version_major": 2,
              "version_minor": 0,
              "model_id": "d8c54e9582284869a2d612422b0f5e59"
            }
          },
          "metadata": {}
        },
        {
          "output_type": "display_data",
          "data": {
            "text/plain": [
              "Button(description='SUBMIT', style=ButtonStyle())"
            ],
            "application/vnd.jupyter.widget-view+json": {
              "version_major": 2,
              "version_minor": 0,
              "model_id": "d77497b9cfcf4c468542b2926c649d9d"
            }
          },
          "metadata": {}
        }
      ]
    },
    {
      "cell_type": "code",
      "source": [
        "dd10=Dropdown(options=crp_list,value='NONE',description='Select a crop')\n",
        "btn3=widgets.Button(description='SUBMIT')\n",
        "display(dd10)\n",
        "display(btn3)\n",
        "\n",
        "def fun(arg):\n",
        "  crp=dd10.value\n",
        "  print(crp)\n",
        "  cf2=df.loc[df['Crop']==crp]\n",
        "  x=cf2.groupby('Crop_Year')['Production'].sum()\n",
        "  y=cf2.groupby('Crop_Year')['Area'].sum()\n",
        "  display(x,y)\n",
        "\n",
        "  # display(cf2)\n",
        "\n",
        "  plt.figure(figsize=(15,5))\n",
        "  plt.subplot(1,2,1)\n",
        "  plt.title('production for each year')\n",
        "  x.plot(kind='bar')\n",
        "  plt.xlabel('')\n",
        "  plt.ylabel(\"in Tons\")\n",
        "  plt.subplot(1,2,2)\n",
        "  plt.title('Area utilsed for each year')\n",
        "  y.plot(kind='bar')\n",
        "  plt.xlabel('')\n",
        "  plt.ylabel(\"Area in Hectare\")\n",
        "\n",
        "\n",
        "  plt.figure(figsize=(22,8))\n",
        "  plt.subplot(1,2,1)\n",
        "  plt.title('Which are the district produce this crop and production level')\n",
        "  sns.barplot(ci=False,data=cf2,y='District_Name',x='Production')\n",
        "  plt.ylabel('')\n",
        "  plt.subplot(1,2,2)\n",
        "  plt.title('how much produced in each season')\n",
        "  cf2.groupby('Season')['Production'].sum().plot(kind='bar')\n",
        "\n",
        "btn3.on_click(fun)"
      ],
      "metadata": {
        "colab": {
          "base_uri": "https://localhost:8080/",
          "height": 81,
          "referenced_widgets": [
            "36c68e7557cd441dad9e9349cbf7830a",
            "d04a232c88bf4b33af9703c0eebd5d90",
            "2f7d3bb6bc974d16a006447cbf6ac283",
            "e808d81578634005b811de2c3bf0e562",
            "7ecef8f9f03a41d4b30f90b745c522a0",
            "a3ab0cbc6a2b44fdbdb87cf52f30e945"
          ]
        },
        "id": "dRR4KoYP4jee",
        "outputId": "44fba974-e3e0-4e6e-d665-c57e5d3774e0"
      },
      "execution_count": 184,
      "outputs": [
        {
          "output_type": "display_data",
          "data": {
            "text/plain": [
              "Dropdown(description='Select a crop', options=('NONE', 'Arecanut', 'Arhar/Tur', 'Bajra', 'Banana', 'Black pepp…"
            ],
            "application/vnd.jupyter.widget-view+json": {
              "version_major": 2,
              "version_minor": 0,
              "model_id": "36c68e7557cd441dad9e9349cbf7830a"
            }
          },
          "metadata": {}
        },
        {
          "output_type": "display_data",
          "data": {
            "text/plain": [
              "Button(description='SUBMIT', style=ButtonStyle())"
            ],
            "application/vnd.jupyter.widget-view+json": {
              "version_major": 2,
              "version_minor": 0,
              "model_id": "e808d81578634005b811de2c3bf0e562"
            }
          },
          "metadata": {}
        }
      ]
    },
    {
      "cell_type": "markdown",
      "source": [
        "Filter based on the crop year season"
      ],
      "metadata": {
        "id": "SNjjK7YmXh0M"
      }
    },
    {
      "cell_type": "code",
      "source": [
        "\n",
        "\n",
        "dd6=Dropdown(options=crp_list,value='NONE',description='Select a crop')\n",
        "dd7=Dropdown(options=year_list,value='NONE',description='Select year')\n",
        "dd9=Dropdown(options=dic_list,value='NONE',description='District')\n",
        "dd8=Dropdown(options=sea_list,value='NONE',description='Season')\n",
        "btn2=widgets.Button(description='SUBMIT')\n",
        "display(dd6)\n",
        "display(dd7)\n",
        "display(dd9)\n",
        "display(dd8)\n",
        "display(btn2)\n",
        "\n",
        "\n",
        "\n",
        "def fun(arg):\n",
        "  crp=dd6.value\n",
        "  yr=dd7.value\n",
        "  dic=dd9.value\n",
        "  sea=dd8.value\n",
        "  print(crp)\n",
        "  print(yr)\n",
        "  print(dic)\n",
        "  print(sea)\n",
        "\n",
        "  if crp!='NONE':\n",
        "    cf2=df.loc[df['Crop']==crp]\n",
        "  else:\n",
        "    cf2=df\n",
        "\n",
        "  if yr!='NONE':\n",
        "    cf2=cf2.loc[cf2['Crop_Year']==yr]\n",
        "\n",
        "  if dic!='NONE':\n",
        "    cf2=cf2.loc[cf2['District_Name']==dic]\n",
        "\n",
        "  if sea!='NONE':\n",
        "    cf2=cf2.loc[cf2['Season']==sea]\n",
        "\n",
        "\n",
        "\n",
        "\n",
        "  # display(cf2)\n",
        "  # print(cf2.shape)\n",
        "  # print(cf2.size)\n",
        "\n",
        "\n",
        "\n",
        "  if cf2.size>0:\n",
        "\n",
        "    plt.figure(figsize=(7,7))\n",
        "    sns.barplot(ci=False,data=cf2,y='District_Name',x='Production')\n",
        "    print('====================================================================================================')\n",
        "  else:\n",
        "    print('======================================')\n",
        "    print('NO DATA FOUND')\n",
        "    print('======================================')\n",
        "\n",
        "\n",
        "\n",
        "btn2.on_click(fun)"
      ],
      "metadata": {
        "colab": {
          "base_uri": "https://localhost:8080/",
          "height": 171,
          "referenced_widgets": [
            "9fb2e524aae142b6907d1e47a830bcba",
            "b01cabd264064ff5a1aad4bcc726406c",
            "3b22f612ea3a497d84571a9dddccc93b",
            "f541cce67a3247658b4e46175136a795",
            "c053e0550397402094d25f75c31091f8",
            "8058eef747de43699b0f09f463ec560e",
            "8e4b103063a34011ac01a5861f6cf451",
            "2a6945f9fd6a419080a8c893ae84d91a",
            "022f1737edaa46609d3cb2f932042093",
            "5df8512be97c4df9a7addd1c69d7aff2",
            "8e8bc5d2bd4844cfb9ff89e52aae33f8",
            "fa6c9ba2418141718bbae70e80d2137e",
            "8e2cc91223154806a461a243f4c9c45e",
            "0eb37d38e94d4b3e929fbf95b00b80cf",
            "0824faf968864e25b9a37e37dff0bc82"
          ]
        },
        "id": "bv-MZCnhMEHe",
        "outputId": "800c0997-c6ba-4845-d352-39923d9b3e3d"
      },
      "execution_count": 185,
      "outputs": [
        {
          "output_type": "display_data",
          "data": {
            "text/plain": [
              "Dropdown(description='Select a crop', options=('NONE', 'Arecanut', 'Arhar/Tur', 'Bajra', 'Banana', 'Black pepp…"
            ],
            "application/vnd.jupyter.widget-view+json": {
              "version_major": 2,
              "version_minor": 0,
              "model_id": "9fb2e524aae142b6907d1e47a830bcba"
            }
          },
          "metadata": {}
        },
        {
          "output_type": "display_data",
          "data": {
            "text/plain": [
              "Dropdown(description='Select year', options=('NONE', 2009, 2010, 2011, 2012, 2013), value='NONE')"
            ],
            "application/vnd.jupyter.widget-view+json": {
              "version_major": 2,
              "version_minor": 0,
              "model_id": "f541cce67a3247658b4e46175136a795"
            }
          },
          "metadata": {}
        },
        {
          "output_type": "display_data",
          "data": {
            "text/plain": [
              "Dropdown(description='District', options=('NONE', 'ARIYALUR', 'COIMBATORE', 'CUDDALORE', 'DHARMAPURI', 'DINDIG…"
            ],
            "application/vnd.jupyter.widget-view+json": {
              "version_major": 2,
              "version_minor": 0,
              "model_id": "8e4b103063a34011ac01a5861f6cf451"
            }
          },
          "metadata": {}
        },
        {
          "output_type": "display_data",
          "data": {
            "text/plain": [
              "Dropdown(description='Season', options=('NONE', 'Kharif', 'Rabi', 'Whole Year'), value='NONE')"
            ],
            "application/vnd.jupyter.widget-view+json": {
              "version_major": 2,
              "version_minor": 0,
              "model_id": "5df8512be97c4df9a7addd1c69d7aff2"
            }
          },
          "metadata": {}
        },
        {
          "output_type": "display_data",
          "data": {
            "text/plain": [
              "Button(description='SUBMIT', style=ButtonStyle())"
            ],
            "application/vnd.jupyter.widget-view+json": {
              "version_major": 2,
              "version_minor": 0,
              "model_id": "8e2cc91223154806a461a243f4c9c45e"
            }
          },
          "metadata": {}
        }
      ]
    }
  ]
}